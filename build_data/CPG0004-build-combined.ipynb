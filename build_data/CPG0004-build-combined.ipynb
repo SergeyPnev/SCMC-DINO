{
 "cells": [
  {
   "cell_type": "code",
   "execution_count": 1,
   "id": "3a42a46f",
   "metadata": {},
   "outputs": [],
   "source": [
    "import io\n",
    "import pandas as pd\n",
    "import numpy as np\n",
    "\n",
    "import plotly.express as px\n",
    "import plotly.io as pio\n",
    "\n",
    "pio.renderers.default = \"notebook_connected\"  # Set to \"svg\" or \"png\" for static plots or \"notebook_connected\" for interactive plots"
   ]
  },
  {
   "cell_type": "code",
   "execution_count": 2,
   "id": "a01da138",
   "metadata": {},
   "outputs": [],
   "source": [
    "import skimage\n",
    "from skimage.util import view_as_blocks, view_as_windows\n",
    "import matplotlib.pyplot as plt\n",
    "import matplotlib.image as mpimg"
   ]
  },
  {
   "cell_type": "code",
   "execution_count": 3,
   "id": "9a4e47f3",
   "metadata": {},
   "outputs": [],
   "source": [
    "\n",
    "import os\n",
    "\n",
    "from itertools import chain\n",
    "\n",
    "base_dir_full_imgs  = \"/storage/user/datasets/large-Cell-Painting-Dataset-IMAGE-DATA/CPG0004-large/\""
   ]
  },
  {
   "cell_type": "code",
   "execution_count": 6,
   "id": "a9bd2863",
   "metadata": {},
   "outputs": [
    {
     "ename": "FileNotFoundError",
     "evalue": "[Errno 2] No such file or directory: '/storage/user/datasets/large-Cell-Painting-Dataset/datasets/CPG0004/enriched_index.csv'",
     "output_type": "error",
     "traceback": [
      "\u001b[0;31m---------------------------------------------------------------------------\u001b[0m",
      "\u001b[0;31mFileNotFoundError\u001b[0m                         Traceback (most recent call last)",
      "\u001b[0;32m/tmp/ipykernel_3138310/2236260017.py\u001b[0m in \u001b[0;36m<module>\u001b[0;34m\u001b[0m\n\u001b[0;32m----> 1\u001b[0;31m \u001b[0mtop_moa\u001b[0m \u001b[0;34m=\u001b[0m \u001b[0mpd\u001b[0m\u001b[0;34m.\u001b[0m\u001b[0mread_csv\u001b[0m\u001b[0;34m(\u001b[0m\u001b[0;34m\"/storage/user/datasets/large-Cell-Painting-Dataset/datasets/CPG0004/enriched_index.csv\"\u001b[0m\u001b[0;34m)\u001b[0m\u001b[0;34m\u001b[0m\u001b[0;34m\u001b[0m\u001b[0m\n\u001b[0m",
      "\u001b[0;32m~/miniconda3/envs/cd/lib/python3.7/site-packages/pandas/util/_decorators.py\u001b[0m in \u001b[0;36mwrapper\u001b[0;34m(*args, **kwargs)\u001b[0m\n\u001b[1;32m    309\u001b[0m                     \u001b[0mstacklevel\u001b[0m\u001b[0;34m=\u001b[0m\u001b[0mstacklevel\u001b[0m\u001b[0;34m,\u001b[0m\u001b[0;34m\u001b[0m\u001b[0;34m\u001b[0m\u001b[0m\n\u001b[1;32m    310\u001b[0m                 )\n\u001b[0;32m--> 311\u001b[0;31m             \u001b[0;32mreturn\u001b[0m \u001b[0mfunc\u001b[0m\u001b[0;34m(\u001b[0m\u001b[0;34m*\u001b[0m\u001b[0margs\u001b[0m\u001b[0;34m,\u001b[0m \u001b[0;34m**\u001b[0m\u001b[0mkwargs\u001b[0m\u001b[0;34m)\u001b[0m\u001b[0;34m\u001b[0m\u001b[0;34m\u001b[0m\u001b[0m\n\u001b[0m\u001b[1;32m    312\u001b[0m \u001b[0;34m\u001b[0m\u001b[0m\n\u001b[1;32m    313\u001b[0m         \u001b[0;32mreturn\u001b[0m \u001b[0mwrapper\u001b[0m\u001b[0;34m\u001b[0m\u001b[0;34m\u001b[0m\u001b[0m\n",
      "\u001b[0;32m~/miniconda3/envs/cd/lib/python3.7/site-packages/pandas/io/parsers/readers.py\u001b[0m in \u001b[0;36mread_csv\u001b[0;34m(filepath_or_buffer, sep, delimiter, header, names, index_col, usecols, squeeze, prefix, mangle_dupe_cols, dtype, engine, converters, true_values, false_values, skipinitialspace, skiprows, skipfooter, nrows, na_values, keep_default_na, na_filter, verbose, skip_blank_lines, parse_dates, infer_datetime_format, keep_date_col, date_parser, dayfirst, cache_dates, iterator, chunksize, compression, thousands, decimal, lineterminator, quotechar, quoting, doublequote, escapechar, comment, encoding, encoding_errors, dialect, error_bad_lines, warn_bad_lines, on_bad_lines, delim_whitespace, low_memory, memory_map, float_precision, storage_options)\u001b[0m\n\u001b[1;32m    584\u001b[0m     \u001b[0mkwds\u001b[0m\u001b[0;34m.\u001b[0m\u001b[0mupdate\u001b[0m\u001b[0;34m(\u001b[0m\u001b[0mkwds_defaults\u001b[0m\u001b[0;34m)\u001b[0m\u001b[0;34m\u001b[0m\u001b[0;34m\u001b[0m\u001b[0m\n\u001b[1;32m    585\u001b[0m \u001b[0;34m\u001b[0m\u001b[0m\n\u001b[0;32m--> 586\u001b[0;31m     \u001b[0;32mreturn\u001b[0m \u001b[0m_read\u001b[0m\u001b[0;34m(\u001b[0m\u001b[0mfilepath_or_buffer\u001b[0m\u001b[0;34m,\u001b[0m \u001b[0mkwds\u001b[0m\u001b[0;34m)\u001b[0m\u001b[0;34m\u001b[0m\u001b[0;34m\u001b[0m\u001b[0m\n\u001b[0m\u001b[1;32m    587\u001b[0m \u001b[0;34m\u001b[0m\u001b[0m\n\u001b[1;32m    588\u001b[0m \u001b[0;34m\u001b[0m\u001b[0m\n",
      "\u001b[0;32m~/miniconda3/envs/cd/lib/python3.7/site-packages/pandas/io/parsers/readers.py\u001b[0m in \u001b[0;36m_read\u001b[0;34m(filepath_or_buffer, kwds)\u001b[0m\n\u001b[1;32m    480\u001b[0m \u001b[0;34m\u001b[0m\u001b[0m\n\u001b[1;32m    481\u001b[0m     \u001b[0;31m# Create the parser.\u001b[0m\u001b[0;34m\u001b[0m\u001b[0;34m\u001b[0m\u001b[0;34m\u001b[0m\u001b[0m\n\u001b[0;32m--> 482\u001b[0;31m     \u001b[0mparser\u001b[0m \u001b[0;34m=\u001b[0m \u001b[0mTextFileReader\u001b[0m\u001b[0;34m(\u001b[0m\u001b[0mfilepath_or_buffer\u001b[0m\u001b[0;34m,\u001b[0m \u001b[0;34m**\u001b[0m\u001b[0mkwds\u001b[0m\u001b[0;34m)\u001b[0m\u001b[0;34m\u001b[0m\u001b[0;34m\u001b[0m\u001b[0m\n\u001b[0m\u001b[1;32m    483\u001b[0m \u001b[0;34m\u001b[0m\u001b[0m\n\u001b[1;32m    484\u001b[0m     \u001b[0;32mif\u001b[0m \u001b[0mchunksize\u001b[0m \u001b[0;32mor\u001b[0m \u001b[0miterator\u001b[0m\u001b[0;34m:\u001b[0m\u001b[0;34m\u001b[0m\u001b[0;34m\u001b[0m\u001b[0m\n",
      "\u001b[0;32m~/miniconda3/envs/cd/lib/python3.7/site-packages/pandas/io/parsers/readers.py\u001b[0m in \u001b[0;36m__init__\u001b[0;34m(self, f, engine, **kwds)\u001b[0m\n\u001b[1;32m    809\u001b[0m             \u001b[0mself\u001b[0m\u001b[0;34m.\u001b[0m\u001b[0moptions\u001b[0m\u001b[0;34m[\u001b[0m\u001b[0;34m\"has_index_names\"\u001b[0m\u001b[0;34m]\u001b[0m \u001b[0;34m=\u001b[0m \u001b[0mkwds\u001b[0m\u001b[0;34m[\u001b[0m\u001b[0;34m\"has_index_names\"\u001b[0m\u001b[0;34m]\u001b[0m\u001b[0;34m\u001b[0m\u001b[0;34m\u001b[0m\u001b[0m\n\u001b[1;32m    810\u001b[0m \u001b[0;34m\u001b[0m\u001b[0m\n\u001b[0;32m--> 811\u001b[0;31m         \u001b[0mself\u001b[0m\u001b[0;34m.\u001b[0m\u001b[0m_engine\u001b[0m \u001b[0;34m=\u001b[0m \u001b[0mself\u001b[0m\u001b[0;34m.\u001b[0m\u001b[0m_make_engine\u001b[0m\u001b[0;34m(\u001b[0m\u001b[0mself\u001b[0m\u001b[0;34m.\u001b[0m\u001b[0mengine\u001b[0m\u001b[0;34m)\u001b[0m\u001b[0;34m\u001b[0m\u001b[0;34m\u001b[0m\u001b[0m\n\u001b[0m\u001b[1;32m    812\u001b[0m \u001b[0;34m\u001b[0m\u001b[0m\n\u001b[1;32m    813\u001b[0m     \u001b[0;32mdef\u001b[0m \u001b[0mclose\u001b[0m\u001b[0;34m(\u001b[0m\u001b[0mself\u001b[0m\u001b[0;34m)\u001b[0m\u001b[0;34m:\u001b[0m\u001b[0;34m\u001b[0m\u001b[0;34m\u001b[0m\u001b[0m\n",
      "\u001b[0;32m~/miniconda3/envs/cd/lib/python3.7/site-packages/pandas/io/parsers/readers.py\u001b[0m in \u001b[0;36m_make_engine\u001b[0;34m(self, engine)\u001b[0m\n\u001b[1;32m   1038\u001b[0m             )\n\u001b[1;32m   1039\u001b[0m         \u001b[0;31m# error: Too many arguments for \"ParserBase\"\u001b[0m\u001b[0;34m\u001b[0m\u001b[0;34m\u001b[0m\u001b[0;34m\u001b[0m\u001b[0m\n\u001b[0;32m-> 1040\u001b[0;31m         \u001b[0;32mreturn\u001b[0m \u001b[0mmapping\u001b[0m\u001b[0;34m[\u001b[0m\u001b[0mengine\u001b[0m\u001b[0;34m]\u001b[0m\u001b[0;34m(\u001b[0m\u001b[0mself\u001b[0m\u001b[0;34m.\u001b[0m\u001b[0mf\u001b[0m\u001b[0;34m,\u001b[0m \u001b[0;34m**\u001b[0m\u001b[0mself\u001b[0m\u001b[0;34m.\u001b[0m\u001b[0moptions\u001b[0m\u001b[0;34m)\u001b[0m  \u001b[0;31m# type: ignore[call-arg]\u001b[0m\u001b[0;34m\u001b[0m\u001b[0;34m\u001b[0m\u001b[0m\n\u001b[0m\u001b[1;32m   1041\u001b[0m \u001b[0;34m\u001b[0m\u001b[0m\n\u001b[1;32m   1042\u001b[0m     \u001b[0;32mdef\u001b[0m \u001b[0m_failover_to_python\u001b[0m\u001b[0;34m(\u001b[0m\u001b[0mself\u001b[0m\u001b[0;34m)\u001b[0m\u001b[0;34m:\u001b[0m\u001b[0;34m\u001b[0m\u001b[0;34m\u001b[0m\u001b[0m\n",
      "\u001b[0;32m~/miniconda3/envs/cd/lib/python3.7/site-packages/pandas/io/parsers/c_parser_wrapper.py\u001b[0m in \u001b[0;36m__init__\u001b[0;34m(self, src, **kwds)\u001b[0m\n\u001b[1;32m     49\u001b[0m \u001b[0;34m\u001b[0m\u001b[0m\n\u001b[1;32m     50\u001b[0m         \u001b[0;31m# open handles\u001b[0m\u001b[0;34m\u001b[0m\u001b[0;34m\u001b[0m\u001b[0;34m\u001b[0m\u001b[0m\n\u001b[0;32m---> 51\u001b[0;31m         \u001b[0mself\u001b[0m\u001b[0;34m.\u001b[0m\u001b[0m_open_handles\u001b[0m\u001b[0;34m(\u001b[0m\u001b[0msrc\u001b[0m\u001b[0;34m,\u001b[0m \u001b[0mkwds\u001b[0m\u001b[0;34m)\u001b[0m\u001b[0;34m\u001b[0m\u001b[0;34m\u001b[0m\u001b[0m\n\u001b[0m\u001b[1;32m     52\u001b[0m         \u001b[0;32massert\u001b[0m \u001b[0mself\u001b[0m\u001b[0;34m.\u001b[0m\u001b[0mhandles\u001b[0m \u001b[0;32mis\u001b[0m \u001b[0;32mnot\u001b[0m \u001b[0;32mNone\u001b[0m\u001b[0;34m\u001b[0m\u001b[0;34m\u001b[0m\u001b[0m\n\u001b[1;32m     53\u001b[0m \u001b[0;34m\u001b[0m\u001b[0m\n",
      "\u001b[0;32m~/miniconda3/envs/cd/lib/python3.7/site-packages/pandas/io/parsers/base_parser.py\u001b[0m in \u001b[0;36m_open_handles\u001b[0;34m(self, src, kwds)\u001b[0m\n\u001b[1;32m    227\u001b[0m             \u001b[0mmemory_map\u001b[0m\u001b[0;34m=\u001b[0m\u001b[0mkwds\u001b[0m\u001b[0;34m.\u001b[0m\u001b[0mget\u001b[0m\u001b[0;34m(\u001b[0m\u001b[0;34m\"memory_map\"\u001b[0m\u001b[0;34m,\u001b[0m \u001b[0;32mFalse\u001b[0m\u001b[0;34m)\u001b[0m\u001b[0;34m,\u001b[0m\u001b[0;34m\u001b[0m\u001b[0;34m\u001b[0m\u001b[0m\n\u001b[1;32m    228\u001b[0m             \u001b[0mstorage_options\u001b[0m\u001b[0;34m=\u001b[0m\u001b[0mkwds\u001b[0m\u001b[0;34m.\u001b[0m\u001b[0mget\u001b[0m\u001b[0;34m(\u001b[0m\u001b[0;34m\"storage_options\"\u001b[0m\u001b[0;34m,\u001b[0m \u001b[0;32mNone\u001b[0m\u001b[0;34m)\u001b[0m\u001b[0;34m,\u001b[0m\u001b[0;34m\u001b[0m\u001b[0;34m\u001b[0m\u001b[0m\n\u001b[0;32m--> 229\u001b[0;31m             \u001b[0merrors\u001b[0m\u001b[0;34m=\u001b[0m\u001b[0mkwds\u001b[0m\u001b[0;34m.\u001b[0m\u001b[0mget\u001b[0m\u001b[0;34m(\u001b[0m\u001b[0;34m\"encoding_errors\"\u001b[0m\u001b[0;34m,\u001b[0m \u001b[0;34m\"strict\"\u001b[0m\u001b[0;34m)\u001b[0m\u001b[0;34m,\u001b[0m\u001b[0;34m\u001b[0m\u001b[0;34m\u001b[0m\u001b[0m\n\u001b[0m\u001b[1;32m    230\u001b[0m         )\n\u001b[1;32m    231\u001b[0m \u001b[0;34m\u001b[0m\u001b[0m\n",
      "\u001b[0;32m~/miniconda3/envs/cd/lib/python3.7/site-packages/pandas/io/common.py\u001b[0m in \u001b[0;36mget_handle\u001b[0;34m(path_or_buf, mode, encoding, compression, memory_map, is_text, errors, storage_options)\u001b[0m\n\u001b[1;32m    705\u001b[0m                 \u001b[0mencoding\u001b[0m\u001b[0;34m=\u001b[0m\u001b[0mioargs\u001b[0m\u001b[0;34m.\u001b[0m\u001b[0mencoding\u001b[0m\u001b[0;34m,\u001b[0m\u001b[0;34m\u001b[0m\u001b[0;34m\u001b[0m\u001b[0m\n\u001b[1;32m    706\u001b[0m                 \u001b[0merrors\u001b[0m\u001b[0;34m=\u001b[0m\u001b[0merrors\u001b[0m\u001b[0;34m,\u001b[0m\u001b[0;34m\u001b[0m\u001b[0;34m\u001b[0m\u001b[0m\n\u001b[0;32m--> 707\u001b[0;31m                 \u001b[0mnewline\u001b[0m\u001b[0;34m=\u001b[0m\u001b[0;34m\"\"\u001b[0m\u001b[0;34m,\u001b[0m\u001b[0;34m\u001b[0m\u001b[0;34m\u001b[0m\u001b[0m\n\u001b[0m\u001b[1;32m    708\u001b[0m             )\n\u001b[1;32m    709\u001b[0m         \u001b[0;32melse\u001b[0m\u001b[0;34m:\u001b[0m\u001b[0;34m\u001b[0m\u001b[0;34m\u001b[0m\u001b[0m\n",
      "\u001b[0;31mFileNotFoundError\u001b[0m: [Errno 2] No such file or directory: '/storage/user/datasets/large-Cell-Painting-Dataset/datasets/CPG0004/enriched_index.csv'"
     ]
    }
   ],
   "source": [
    "top_moa = pd.read_csv(\"/storage/user/datasets/large-Cell-Painting-Dataset/datasets/CPG0004/enriched_index.csv\")"
   ]
  },
  {
   "cell_type": "code",
   "execution_count": null,
   "id": "2f98ff28",
   "metadata": {},
   "outputs": [],
   "source": [
    "top_moa.head()"
   ]
  },
  {
   "cell_type": "code",
   "execution_count": null,
   "id": "f769181d",
   "metadata": {},
   "outputs": [],
   "source": [
    "files_full_imgs = [x for x in os.listdir(base_dir_full_imgs) if (\"SQ\" in x)]"
   ]
  },
  {
   "cell_type": "code",
   "execution_count": null,
   "id": "8ad13044",
   "metadata": {},
   "outputs": [],
   "source": [
    "unique_wells = [[str(y)+\"-\"+x[:6] for x in os.listdir(base_dir_full_imgs+y)] for y in files_full_imgs]"
   ]
  },
  {
   "cell_type": "code",
   "execution_count": null,
   "id": "9e432788",
   "metadata": {},
   "outputs": [],
   "source": [
    "len(unique_wells)"
   ]
  },
  {
   "cell_type": "code",
   "execution_count": null,
   "id": "a4ecefbe",
   "metadata": {},
   "outputs": [],
   "source": [
    "list_of_sets_of_wells = [set(x) for x in unique_wells]\n",
    "\n",
    "full_set_of_wells_full_img = set(set(chain.from_iterable(list_of_sets_of_wells)))\n"
   ]
  },
  {
   "cell_type": "code",
   "execution_count": null,
   "id": "4d5b51ab",
   "metadata": {},
   "outputs": [],
   "source": [
    "unique_wells = [[str(y)+\"/\"+x for x in os.listdir(base_dir_full_imgs+y)] for y in files_full_imgs]"
   ]
  },
  {
   "cell_type": "code",
   "execution_count": 4,
   "id": "b3b8f6cb",
   "metadata": {},
   "outputs": [],
   "source": [
    "def calc_mean(paths = \"example_images/1583@115x445.png\", base_dir_full_imgs  = \"/storage/user/datasets/large-Cell-Painting-Dataset-IMAGE-DATA/CPG0004/\"):\n",
    "    \n",
    "    full = np.zeros((5,1080,1080))\n",
    "    \n",
    "    for i, path in enumerate(paths):\n",
    "        full[i,:,:] = skimage.io.imread(base_dir_full_imgs+path)\n",
    "\n",
    "    return np.append(full.mean(axis=(1,2)), full.std(axis=(1,2)))"
   ]
  },
  {
   "cell_type": "code",
   "execution_count": null,
   "id": "9179763f",
   "metadata": {},
   "outputs": [],
   "source": [
    "top_moa"
   ]
  },
  {
   "cell_type": "code",
   "execution_count": null,
   "id": "cc0cd3d0",
   "metadata": {},
   "outputs": [],
   "source": [
    "top_moa.Metadata_broad_sample.nunique()"
   ]
  },
  {
   "cell_type": "code",
   "execution_count": null,
   "id": "77db001a",
   "metadata": {},
   "outputs": [],
   "source": [
    "top_moa.Treatment.nunique()"
   ]
  },
  {
   "cell_type": "code",
   "execution_count": null,
   "id": "cb8f9bca",
   "metadata": {},
   "outputs": [],
   "source": [
    "top_moa.Treatment.value_counts()"
   ]
  },
  {
   "cell_type": "code",
   "execution_count": null,
   "id": "313670fe",
   "metadata": {},
   "outputs": [],
   "source": [
    "a = top_moa.drop_duplicates([\"Metadata_Plate\",\"Metadata_Well\"]).Treatment.value_counts()"
   ]
  },
  {
   "cell_type": "code",
   "execution_count": null,
   "id": "b80338c4",
   "metadata": {},
   "outputs": [],
   "source": [
    "b = top_moa.groupby(\"Metadata_Plate\").Split.value_counts()"
   ]
  },
  {
   "cell_type": "code",
   "execution_count": null,
   "id": "04f17297",
   "metadata": {},
   "outputs": [],
   "source": [
    "top_moa.drop_duplicates([\"Plate_Map_Name\", \"Metadata_Plate\"]).Plate_Map_Name.value_counts()"
   ]
  },
  {
   "cell_type": "code",
   "execution_count": null,
   "id": "e2634958",
   "metadata": {},
   "outputs": [],
   "source": [
    "top_moa_plate_replicate = top_moa.groupby(\"Metadata_Plate\").Treatment_Replicate.median()"
   ]
  },
  {
   "cell_type": "code",
   "execution_count": null,
   "id": "2a8a1d6a",
   "metadata": {},
   "outputs": [],
   "source": [
    "training_plates = top_moa_plate_replicate[top_moa_plate_replicate <  4].index\n",
    "val_plates      = top_moa_plate_replicate[top_moa_plate_replicate == 4].index\n",
    "test_plates     = top_moa_plate_replicate[top_moa_plate_replicate == 5].index"
   ]
  },
  {
   "cell_type": "code",
   "execution_count": null,
   "id": "727d451c",
   "metadata": {},
   "outputs": [],
   "source": [
    "top_moa.loc[top_moa.Metadata_Plate.isin(training_plates), \"Split\"] = \"Training\"\n",
    "top_moa.loc[top_moa.Metadata_Plate.isin(val_plates),      \"Split\"] = \"Validation\"\n",
    "top_moa.loc[top_moa.Metadata_Plate.isin(test_plates),     \"Split\"] = \"Test\""
   ]
  },
  {
   "cell_type": "code",
   "execution_count": null,
   "id": "24e7c35a",
   "metadata": {},
   "outputs": [],
   "source": [
    "top_moa.Split.value_counts()"
   ]
  },
  {
   "cell_type": "code",
   "execution_count": null,
   "id": "94108a74",
   "metadata": {},
   "outputs": [],
   "source": [
    "top_moa.Metadata_broad_sample.nunique()"
   ]
  },
  {
   "cell_type": "code",
   "execution_count": null,
   "id": "69121998",
   "metadata": {},
   "outputs": [],
   "source": [
    "top_moa[\"Metadata_broad_sample_ID\"] = top_moa.groupby([\"Metadata_broad_sample\"]).ngroup()"
   ]
  },
  {
   "cell_type": "code",
   "execution_count": null,
   "id": "7a73b9ae",
   "metadata": {},
   "outputs": [],
   "source": [
    "top_moa[\"Metadata_moa_ID\"]          = top_moa.groupby([\"Metadata_moa\"]         ).ngroup()"
   ]
  },
  {
   "cell_type": "code",
   "execution_count": null,
   "id": "cebd023d",
   "metadata": {},
   "outputs": [],
   "source": [
    "top_moa[\"Metadata_Plate_ID\"]        = top_moa.groupby([\"Metadata_Plate\"]       ).ngroup()"
   ]
  },
  {
   "cell_type": "code",
   "execution_count": null,
   "id": "0b0fc4cd",
   "metadata": {},
   "outputs": [],
   "source": [
    "top_moa[\"replicate_ID\"] = top_moa.Metadata_Plate.map(top_moa_plate_replicate.to_dict())"
   ]
  },
  {
   "cell_type": "code",
   "execution_count": null,
   "id": "d340cd93",
   "metadata": {},
   "outputs": [],
   "source": [
    "top_moa[\"combined_paths\"] = list(zip(top_moa.DNA, top_moa.ER, top_moa.RNA, top_moa.AGP, top_moa.Mito))"
   ]
  },
  {
   "cell_type": "code",
   "execution_count": null,
   "id": "ca479b5e",
   "metadata": {},
   "outputs": [],
   "source": [
    "top_moa[\"Unique_well\"] = top_moa[\"Metadata_Plate\"] + \"-\" + top_moa[\"Metadata_Well\"]"
   ]
  },
  {
   "cell_type": "code",
   "execution_count": null,
   "id": "103dc257",
   "metadata": {},
   "outputs": [],
   "source": [
    "def map_path(DNA,ER,RNA,AGP,Mito):\n",
    "    return DNA.replace(\".tiff\",\".png\")+\",\"+ER.replace(\".tiff\",\".png\")+\",\"+RNA.replace(\".tiff\",\".png\")+\",\"+AGP.replace(\".tiff\",\".png\")+\",\"+Mito.replace(\".tiff\",\".png\")"
   ]
  },
  {
   "cell_type": "code",
   "execution_count": null,
   "id": "689428d2",
   "metadata": {
    "scrolled": true
   },
   "outputs": [],
   "source": [
    "\n",
    "top_moa[\"combined_paths\"] = top_moa[[\"DNA\", \"ER\", \"RNA\", \"AGP\", \"Mito\"]].apply(lambda x: map_path(x[0], x[1], x[2], x[3], x[4], ), axis=1)\n",
    "\n"
   ]
  },
  {
   "cell_type": "code",
   "execution_count": null,
   "id": "aa768737",
   "metadata": {},
   "outputs": [],
   "source": [
    "top_moa.Treatment_ID.nunique()"
   ]
  },
  {
   "cell_type": "code",
   "execution_count": null,
   "id": "4af7277f",
   "metadata": {},
   "outputs": [],
   "source": [
    "top_moa.shape"
   ]
  },
  {
   "cell_type": "code",
   "execution_count": null,
   "id": "421072c5",
   "metadata": {},
   "outputs": [],
   "source": [
    "top_moa = top_moa[~top_moa.RNA.str.contains(\"SQ00015168/r10c07f05p01-ch3sk1fk1fl1\")] # Drop row with missing image"
   ]
  },
  {
   "cell_type": "code",
   "execution_count": null,
   "id": "062ac4fd",
   "metadata": {},
   "outputs": [],
   "source": [
    "top_moa.to_csv(\"/storage/user/datasets/large-Cell-Painting-Dataset/datasets/CPG0004/full_set_training_large_.csv\")"
   ]
  },
  {
   "cell_type": "code",
   "execution_count": null,
   "id": "3a42a46f",
   "metadata": {},
   "outputs": [],
   "source": [
    "import io\n",
    "\n",
    "import plotly.express as px\n",
    "import plotly.io as pio\n",
    "\n",
    "pio.renderers.default = \"notebook_connected\"  # Set to \"svg\" or \"png\" for static plots or \"notebook_connected\" for interactive plots"
   ]
  },
  {
   "cell_type": "code",
   "execution_count": null,
   "id": "a01da138",
   "metadata": {},
   "outputs": [],
   "source": [
    "import skimage\n",
    "from skimage.util import view_as_blocks, view_as_windows\n",
    "import matplotlib.pyplot as plt\n",
    "import matplotlib.image as mpimg"
   ]
  },
  {
   "cell_type": "code",
   "execution_count": null,
   "id": "9a4e47f3",
   "metadata": {},
   "outputs": [],
   "source": [
    "\n",
    "\n",
    "\n",
    "import numpy as np\n",
    "\n",
    "import os\n",
    "\n",
    "from itertools import chain\n",
    "\n",
    "base_dir_full_imgs  = \"/storage/user/datasets/large-Cell-Painting-Dataset-IMAGE-DATA/CPG0004/\""
   ]
  },
  {
   "cell_type": "code",
   "execution_count": null,
   "id": "a9bd2863",
   "metadata": {},
   "outputs": [],
   "source": [
    "top_moa = pd.read_csv(\"/storage/user/datasets/large-Cell-Painting-Dataset/datasets/CPG0004/top20_moa.csv\")"
   ]
  },
  {
   "cell_type": "code",
   "execution_count": null,
   "id": "f769181d",
   "metadata": {},
   "outputs": [],
   "source": [
    "files_full_imgs = [x for x in os.listdir(base_dir_full_imgs) if (\"SQ\" in x)]"
   ]
  },
  {
   "cell_type": "code",
   "execution_count": null,
   "id": "8ad13044",
   "metadata": {},
   "outputs": [],
   "source": [
    "unique_wells = [[str(y)+\"-\"+x[:6] for x in os.listdir(base_dir_full_imgs+y)] for y in files_full_imgs]"
   ]
  },
  {
   "cell_type": "code",
   "execution_count": null,
   "id": "4d5b51ab",
   "metadata": {},
   "outputs": [],
   "source": [
    "unique_wells = [[str(y)+\"/\"+x for x in os.listdir(base_dir_full_imgs+y)] for y in files_full_imgs]"
   ]
  },
  {
   "cell_type": "code",
   "execution_count": null,
   "id": "df993bf2",
   "metadata": {},
   "outputs": [],
   "source": [
    "def show_image(paths = \"example_images/1583@115x445.png\", base_dir_full_imgs  = \"/storage/user/datasets/large-Cell-Painting-Dataset-IMAGE-DATA/CPG0004/\"):\n",
    "    \n",
    "    full = np.zeros((5,1080,1080))\n",
    "    \n",
    "    for i, path in enumerate(paths):\n",
    "        full[i,:,:] = skimage.io.imread(base_dir_full_imgs+path)\n",
    "\n",
    "    plt.figure(figsize=(10,10))\n",
    "    plt.imshow(full[2:5,:,:].transpose()/255.0)\n",
    "    plt.show()"
   ]
  },
  {
   "cell_type": "code",
   "execution_count": 13,
   "id": "b3b8f6cb",
   "metadata": {},
   "outputs": [],
   "source": [
    "def calc_mean(paths = \"example_images/1583@115x445.png\", base_dir_full_imgs  = \"/storage/user/datasets/large-Cell-Painting-Dataset-IMAGE-DATA/CPG0004/\"):\n",
    "    \n",
    "    full = np.zeros((5,1080,1080))\n",
    "    \n",
    "    for i, path in enumerate(paths):\n",
    "        full[i,:,:] = skimage.io.imread(base_dir_full_imgs+path)\n",
    "\n",
    "    return np.append(full.mean(axis=(1,2)), full.std(axis=(1,2)))"
   ]
  },
  {
   "cell_type": "code",
   "execution_count": null,
   "id": "9179763f",
   "metadata": {},
   "outputs": [],
   "source": [
    "top_moa"
   ]
  },
  {
   "cell_type": "code",
   "execution_count": null,
   "id": "dad52209",
   "metadata": {},
   "outputs": [],
   "source": [
    "top_moa[[\"DNA_mean\", \"ER_mean\", \"RNA_mean\", \"AGP_mean\", \"Mito_mean\",\n",
    "         \"DNA_std\", \"ER_std\", \"RNA_std\", \"AGP_std\", \"Mito_std\"]] = 0.0"
   ]
  },
  {
   "cell_type": "code",
   "execution_count": null,
   "id": "e5326c77",
   "metadata": {},
   "outputs": [],
   "source": [
    "top_moa.iloc[0][[\"DNA_mean\", \"ER_mean\", \"RNA_mean\", \"AGP_mean\", \"Mito_mean\",\n",
    "                \"DNA_std\", \"ER_std\", \"RNA_std\", \"AGP_std\", \"Mito_std\"]]"
   ]
  },
  {
   "cell_type": "code",
   "execution_count": null,
   "metadata": {},
   "outputs": [],
   "source": []
  },
  {
   "cell_type": "code",
   "execution_count": 1,
   "metadata": {},
   "outputs": [
    {
     "ename": "NameError",
     "evalue": "name 'pd' is not defined",
     "output_type": "error",
     "traceback": [
      "\u001b[0;31m---------------------------------------------------------------------------\u001b[0m",
      "\u001b[0;31mNameError\u001b[0m                                 Traceback (most recent call last)",
      "Cell \u001b[0;32mIn[1], line 1\u001b[0m\n\u001b[0;32m----> 1\u001b[0m df \u001b[38;5;241m=\u001b[39m \u001b[43mpd\u001b[49m\u001b[38;5;241m.\u001b[39mread_csv(\u001b[38;5;124m\"\u001b[39m\u001b[38;5;124m/raid/user/data/JUMP/cpg0004-lincs/metadata/top50_moa_with_dmso_filtered.csv\u001b[39m\u001b[38;5;124m\"\u001b[39m)\n",
      "\u001b[0;31mNameError\u001b[0m: name 'pd' is not defined"
     ]
    }
   ],
   "source": [
    "df = pd.read_csv(\"/raid/user/data/JUMP/cpg0004-lincs/metadata/top50_moa_with_dmso_filtered.csv\")"
   ]
  },
  {
   "cell_type": "code",
   "execution_count": 2,
   "metadata": {},
   "outputs": [
    {
     "ename": "NameError",
     "evalue": "name 'pd' is not defined",
     "output_type": "error",
     "traceback": [
      "\u001b[0;31m---------------------------------------------------------------------------\u001b[0m",
      "\u001b[0;31mNameError\u001b[0m                                 Traceback (most recent call last)",
      "Cell \u001b[0;32mIn[2], line 1\u001b[0m\n\u001b[0;32m----> 1\u001b[0m top_moa \u001b[38;5;241m=\u001b[39m \u001b[43mpd\u001b[49m\u001b[38;5;241m.\u001b[39mread_csv(\u001b[38;5;124m\"\u001b[39m\u001b[38;5;124m/raid/user/data/JUMP/cpg0004-lincs/metadata/top20_moa_plate_norms.csv\u001b[39m\u001b[38;5;124m\"\u001b[39m)\n",
      "\u001b[0;31mNameError\u001b[0m: name 'pd' is not defined"
     ]
    }
   ],
   "source": [
    "top_moa = pd.read_csv(\"/raid/user/data/JUMP/cpg0004-lincs/metadata/top20_moa_plate_norms.csv\")"
   ]
  },
  {
   "cell_type": "code",
   "execution_count": 8,
   "metadata": {
    "scrolled": true
   },
   "outputs": [
    {
     "data": {
      "text/plain": [
       "['SQ00014812/r01c07f01p01-ch1sk1fk1fl1.png',\n",
       " 'SQ00014812/r01c07f01p01-ch2sk1fk1fl1.png',\n",
       " 'SQ00014812/r01c07f01p01-ch3sk1fk1fl1.png',\n",
       " 'SQ00014812/r01c07f01p01-ch4sk1fk1fl1.png',\n",
       " 'SQ00014812/r01c07f01p01-ch5sk1fk1fl1.png']"
      ]
     },
     "execution_count": 8,
     "metadata": {},
     "output_type": "execute_result"
    }
   ],
   "source": [
    "df.iloc[0][\"combined_paths\"].split(\",\")"
   ]
  },
  {
   "cell_type": "code",
   "execution_count": 3,
   "metadata": {},
   "outputs": [],
   "source": [
    "phase_root = \"/raid/user/data/JUMP/cpg0004-lincs/phase_inputs/\""
   ]
  },
  {
   "cell_type": "code",
   "execution_count": 28,
   "id": "009f3b00",
   "metadata": {
    "scrolled": true
   },
   "outputs": [
    {
     "name": "stdout",
     "output_type": "stream",
     "text": [
      "HMGCR inhibitor\n",
      "50\n",
      "HDAC inhibitor\n",
      "100\n",
      "bacterial DNA gyrase inhibitor\n",
      "150\n",
      "adrenergic receptor agonist\n",
      "200\n",
      "Aurora kinase inhibitor\n",
      "250\n",
      "acetylcholine receptor antagonist\n",
      "300\n",
      "gamma secretase inhibitor\n",
      "350\n",
      "glutamate receptor antagonist\n",
      "400\n",
      "EGFR inhibitor\n",
      "450\n",
      "EGFR inhibitor\n",
      "500\n",
      "sodium channel blocker\n",
      "550\n",
      "HSP inhibitor\n",
      "600\n",
      "AKT inhibitor\n",
      "650\n",
      "angiotensin converting enzyme inhibitor\n",
      "700\n",
      "adrenergic receptor antagonist\n",
      "750\n",
      "vitamin D receptor agonist\n",
      "800\n",
      "histamine receptor antagonist\n",
      "850\n",
      "adrenergic receptor antagonist\n",
      "900\n",
      "acetylcholine receptor antagonist\n",
      "950\n",
      "gamma secretase inhibitor\n",
      "1000\n",
      "gamma secretase inhibitor\n",
      "1000\n",
      "RNA polymerase inhibitor\n",
      "1050\n",
      "adrenergic receptor antagonist\n",
      "1100\n",
      "angiotensin converting enzyme inhibitor\n",
      "1150\n",
      "HDAC inhibitor\n",
      "1200\n",
      "topoisomerase inhibitor\n",
      "1250\n",
      "HCV inhibitor\n",
      "1300\n",
      "dopamine receptor antagonist|serotonin receptor antagonist\n",
      "1350\n",
      "histamine receptor antagonist\n",
      "1400\n",
      "dopamine receptor antagonist|serotonin receptor antagonist\n",
      "1450\n",
      "HCV inhibitor\n",
      "1500\n",
      "HMGCR inhibitor\n",
      "1550\n",
      "HCV inhibitor\n",
      "1600\n",
      "sterol demethylase inhibitor\n",
      "1650\n",
      "acetylcholine receptor agonist\n",
      "1700\n",
      "serotonin receptor agonist\n",
      "1750\n",
      "acetylcholine receptor agonist\n",
      "1800\n",
      "cyclooxygenase inhibitor\n",
      "1850\n",
      "adrenergic receptor antagonist\n",
      "1900\n",
      "p38 MAPK inhibitor\n",
      "1950\n",
      "phosphodiesterase inhibitor\n",
      "2000\n",
      "phosphodiesterase inhibitor\n",
      "2000\n",
      "phosphodiesterase inhibitor\n",
      "2050\n",
      "glucocorticoid receptor agonist\n",
      "2100\n",
      "sodium channel blocker\n",
      "2150\n",
      "Aurora kinase inhibitor\n",
      "2200\n",
      "serotonin receptor agonist\n",
      "2250\n",
      "serotonin receptor agonist\n",
      "2300\n",
      "adrenergic receptor agonist\n",
      "2350\n",
      "dopamine receptor agonist\n",
      "2400\n",
      "angiotensin receptor antagonist\n",
      "2450\n",
      "adrenergic receptor antagonist\n",
      "2500\n",
      "adrenergic receptor antagonist\n",
      "2550\n",
      "cyclooxygenase inhibitor\n",
      "2600\n",
      "dopamine receptor antagonist\n",
      "2650\n",
      "dopamine receptor antagonist\n",
      "2700\n",
      "topoisomerase inhibitor\n",
      "2750\n",
      "angiotensin receptor antagonist\n",
      "2800\n",
      "tubulin polymerization inhibitor\n",
      "2850\n",
      "bacterial cell wall synthesis inhibitor\n",
      "2900\n",
      "histamine receptor antagonist\n",
      "2950\n",
      "mTOR inhibitor\n",
      "3000\n",
      "mTOR inhibitor\n",
      "3000\n",
      "adrenergic receptor antagonist\n",
      "3050\n",
      "AKT inhibitor\n",
      "3100\n",
      "adrenergic receptor agonist\n",
      "3150\n",
      "histamine receptor antagonist\n",
      "3200\n",
      "dopamine receptor agonist\n",
      "3250\n",
      "calcium channel blocker\n",
      "3300\n",
      "topoisomerase inhibitor\n",
      "3350\n",
      "adrenergic receptor antagonist\n",
      "3400\n",
      "tubulin polymerization inhibitor\n",
      "3450\n",
      "mTOR inhibitor\n",
      "3500\n",
      "angiotensin receptor antagonist\n",
      "3550\n",
      "potassium channel blocker\n",
      "3600\n",
      "dopamine receptor antagonist|serotonin receptor antagonist\n",
      "3650\n",
      "cyclooxygenase inhibitor\n",
      "3700\n",
      "adrenergic receptor agonist\n",
      "3750\n",
      "cyclooxygenase inhibitor\n",
      "3800\n",
      "serotonin receptor antagonist\n",
      "3850\n",
      "adrenergic receptor agonist\n",
      "3900\n",
      "tubulin polymerization inhibitor\n",
      "3950\n",
      "RNA polymerase inhibitor\n",
      "4000\n",
      "RNA polymerase inhibitor\n",
      "4000\n",
      "cyclooxygenase inhibitor\n",
      "4050\n",
      "JAK inhibitor\n",
      "4100\n",
      "CDK inhibitor\n",
      "4150\n",
      "glucocorticoid receptor agonist\n",
      "4200\n",
      "serotonin receptor agonist\n",
      "4250\n",
      "adrenergic receptor agonist\n",
      "4300\n",
      "acetylcholine receptor antagonist\n",
      "4350\n",
      "dopamine receptor antagonist\n",
      "4400\n",
      "androgen receptor antagonist\n",
      "4450\n",
      "dopamine receptor agonist\n",
      "4500\n",
      "sodium channel blocker\n",
      "4550\n",
      "CC chemokine receptor antagonist\n",
      "4600\n",
      "topoisomerase inhibitor\n",
      "4650\n",
      "histamine receptor antagonist\n",
      "4700\n",
      "AKT inhibitor\n",
      "4750\n",
      "HIV protease inhibitor\n",
      "4800\n",
      "cyclooxygenase inhibitor\n",
      "4850\n",
      "phosphodiesterase inhibitor\n",
      "4900\n",
      "phosphodiesterase inhibitor\n",
      "4950\n",
      "sterol demethylase inhibitor\n",
      "5000\n",
      "sterol demethylase inhibitor\n",
      "5000\n",
      "acetylcholine receptor antagonist\n",
      "5050\n",
      "p38 MAPK inhibitor\n",
      "5100\n",
      "adrenergic receptor agonist\n",
      "5150\n",
      "sodium channel blocker\n",
      "5200\n",
      "dopamine receptor antagonist\n",
      "5250\n",
      "sodium channel blocker\n",
      "5300\n",
      "dopamine receptor antagonist\n",
      "5350\n",
      "serotonin receptor agonist\n",
      "5400\n",
      "sterol demethylase inhibitor\n",
      "5450\n",
      "EGFR inhibitor\n",
      "5500\n",
      "serotonin receptor antagonist\n",
      "5550\n",
      "progesterone receptor agonist\n",
      "5600\n",
      "cyclooxygenase inhibitor\n",
      "5650\n",
      "dopamine receptor antagonist|serotonin receptor antagonist\n",
      "5700\n",
      "sodium channel blocker\n",
      "5750\n",
      "DNA inhibitor\n",
      "5800\n",
      "phosphodiesterase inhibitor\n",
      "5850\n",
      "glucocorticoid receptor agonist\n",
      "5900\n",
      "bacterial DNA gyrase inhibitor\n",
      "5950\n",
      "adrenergic receptor antagonist\n",
      "6000\n",
      "adrenergic receptor antagonist\n",
      "6000\n",
      "CC chemokine receptor antagonist\n",
      "6050\n",
      "dopamine receptor antagonist|serotonin receptor antagonist\n",
      "6100\n",
      "PI3K inhibitor\n",
      "6150\n",
      "bacterial cell wall synthesis inhibitor\n",
      "6200\n",
      "acetylcholine receptor antagonist\n",
      "6250\n",
      "dopamine receptor antagonist\n",
      "6300\n",
      "acetylcholine receptor antagonist\n",
      "6350\n",
      "HIV protease inhibitor\n",
      "6400\n",
      "acetylcholine receptor agonist\n",
      "6450\n",
      "nucleoside reverse transcriptase inhibitor\n",
      "6500\n",
      "MEK inhibitor\n",
      "6550\n",
      "dopamine receptor agonist\n",
      "6600\n",
      "HDAC inhibitor\n",
      "6650\n",
      "acetylcholine receptor agonist\n",
      "6700\n",
      "topoisomerase inhibitor\n",
      "6750\n",
      "CC chemokine receptor antagonist\n",
      "6800\n",
      "cyclooxygenase inhibitor\n",
      "6850\n",
      "phosphodiesterase inhibitor\n",
      "6900\n",
      "bacterial cell wall synthesis inhibitor\n",
      "6950\n",
      "RNA polymerase inhibitor\n",
      "7000\n",
      "RNA polymerase inhibitor\n",
      "7000\n",
      "dopamine receptor agonist\n",
      "7050\n",
      "PI3K inhibitor\n",
      "7100\n",
      "calcium channel blocker\n",
      "7150\n",
      "EGFR inhibitor\n",
      "7200\n",
      "cyclooxygenase inhibitor\n",
      "7250\n",
      "estrogen receptor agonist\n",
      "7300\n",
      "calcium channel blocker\n",
      "7350\n",
      "vitamin D receptor agonist\n",
      "7400\n",
      "MEK inhibitor\n",
      "7450\n",
      "serotonin receptor antagonist\n",
      "7500\n",
      "histamine receptor antagonist\n",
      "7550\n",
      "phosphodiesterase inhibitor\n",
      "7600\n",
      "HMGCR inhibitor\n",
      "7650\n",
      "retinoid receptor agonist\n",
      "7700\n",
      "Aurora kinase inhibitor\n",
      "7750\n",
      "angiotensin receptor antagonist\n",
      "7800\n",
      "gamma secretase inhibitor\n",
      "7850\n",
      "HDAC inhibitor\n",
      "7900\n",
      "nucleoside reverse transcriptase inhibitor\n",
      "7950\n",
      "acetylcholine receptor antagonist\n",
      "8000\n",
      "acetylcholine receptor antagonist\n",
      "8000\n",
      "EGFR inhibitor\n",
      "8050\n",
      "bacterial DNA gyrase inhibitor\n",
      "8100\n",
      "cyclooxygenase inhibitor\n",
      "8150\n",
      "HDAC inhibitor\n",
      "8200\n",
      "dopamine receptor agonist\n",
      "8250\n",
      "glutamate receptor antagonist\n",
      "8300\n",
      "glucocorticoid receptor agonist\n",
      "8350\n",
      "Aurora kinase inhibitor\n",
      "8400\n",
      "histamine receptor antagonist\n",
      "8450\n",
      "serotonin receptor antagonist\n",
      "8500\n",
      "dopamine receptor agonist\n",
      "8550\n",
      "angiotensin receptor antagonist\n",
      "8600\n",
      "angiotensin converting enzyme inhibitor\n",
      "8650\n",
      "CC chemokine receptor antagonist\n",
      "8700\n",
      "sodium channel blocker\n",
      "8750\n",
      "phosphodiesterase inhibitor\n",
      "8800\n",
      "mTOR inhibitor\n",
      "8850\n",
      "glucocorticoid receptor agonist\n",
      "8900\n",
      "topoisomerase inhibitor\n",
      "8950\n",
      "adrenergic receptor antagonist\n",
      "9000\n",
      "adrenergic receptor antagonist\n",
      "9000\n",
      "MEK inhibitor\n",
      "9050\n",
      "AKT inhibitor\n",
      "9100\n",
      "androgen receptor antagonist\n",
      "9150\n",
      "HDAC inhibitor\n",
      "9200\n",
      "vitamin D receptor agonist\n",
      "9250\n",
      "androgen receptor antagonist\n",
      "9300\n",
      "acetylcholine receptor agonist\n",
      "9350\n",
      "calcium channel blocker\n",
      "9400\n",
      "MEK inhibitor\n",
      "9450\n",
      "tubulin polymerization inhibitor\n",
      "9500\n",
      "serotonin receptor agonist\n",
      "9550\n",
      "HMGCR inhibitor\n",
      "9600\n",
      "angiotensin converting enzyme inhibitor\n",
      "9650\n",
      "phosphodiesterase inhibitor\n",
      "9700\n",
      "nucleoside reverse transcriptase inhibitor\n",
      "9750\n",
      "sterol demethylase inhibitor\n",
      "9800\n",
      "retinoid receptor agonist\n",
      "9850\n",
      "EGFR inhibitor\n",
      "9900\n",
      "bacterial cell wall synthesis inhibitor\n",
      "9950\n",
      "phosphodiesterase inhibitor\n",
      "10000\n",
      "phosphodiesterase inhibitor\n",
      "10000\n",
      "histamine receptor antagonist\n",
      "10050\n",
      "glutamate receptor antagonist\n",
      "10100\n",
      "phosphodiesterase inhibitor\n",
      "10150\n",
      "dopamine receptor antagonist|serotonin receptor antagonist\n",
      "10200\n",
      "topoisomerase inhibitor\n",
      "10250\n",
      "glucocorticoid receptor agonist\n",
      "10300\n",
      "EGFR inhibitor\n",
      "10350\n",
      "HIV protease inhibitor\n",
      "10400\n",
      "calcium channel blocker\n",
      "10450\n",
      "histamine receptor antagonist\n",
      "10500\n",
      "mTOR inhibitor|PI3K inhibitor\n",
      "10550\n",
      "vitamin D receptor agonist\n",
      "10600\n",
      "adrenergic receptor antagonist\n",
      "10650\n",
      "dopamine receptor antagonist|serotonin receptor antagonist\n",
      "10700\n",
      "sodium channel blocker\n",
      "10750\n",
      "progesterone receptor agonist\n",
      "10800\n",
      "tubulin polymerization inhibitor\n",
      "10850\n",
      "adrenergic receptor antagonist\n",
      "10900\n",
      "phosphodiesterase inhibitor\n",
      "10950\n",
      "bacterial cell wall synthesis inhibitor\n",
      "11000\n",
      "bacterial cell wall synthesis inhibitor\n",
      "11000\n",
      "dopamine receptor agonist\n",
      "11050\n",
      "adrenergic receptor agonist\n",
      "11100\n",
      "bacterial cell wall synthesis inhibitor\n",
      "11150\n",
      "phosphodiesterase inhibitor\n",
      "11200\n",
      "serotonin receptor antagonist\n",
      "11250\n",
      "JAK inhibitor\n",
      "11300\n",
      "DNA inhibitor\n",
      "11350\n",
      "cyclooxygenase inhibitor\n",
      "11400\n",
      "adrenergic receptor agonist\n",
      "11450\n",
      "DNA inhibitor\n",
      "11500\n",
      "potassium channel blocker\n",
      "11550\n",
      "p38 MAPK inhibitor\n",
      "11600\n",
      "cyclooxygenase inhibitor\n",
      "11650\n",
      "HDAC inhibitor\n",
      "11700\n",
      "adrenergic receptor agonist\n",
      "11750\n",
      "mTOR inhibitor|PI3K inhibitor\n",
      "11800\n",
      "glutamate receptor antagonist\n",
      "11850\n",
      "estrogen receptor agonist\n",
      "11900\n",
      "HSP inhibitor\n",
      "11950\n",
      "glucocorticoid receptor agonist\n",
      "12000\n",
      "glucocorticoid receptor agonist\n",
      "12000\n",
      "adrenergic receptor antagonist\n",
      "12050\n"
     ]
    },
    {
     "name": "stdout",
     "output_type": "stream",
     "text": [
      "HIV protease inhibitor\n",
      "12100\n",
      "histamine receptor antagonist\n",
      "12150\n",
      "acetylcholine receptor antagonist\n",
      "12200\n",
      "phosphodiesterase inhibitor\n",
      "12250\n",
      "cyclooxygenase inhibitor\n",
      "12300\n",
      "adrenergic receptor agonist\n",
      "12350\n",
      "glucocorticoid receptor agonist\n",
      "12400\n",
      "serotonin receptor agonist\n",
      "12450\n",
      "JAK inhibitor\n",
      "12500\n",
      "retinoid receptor agonist\n",
      "12550\n",
      "adrenergic receptor antagonist\n",
      "12600\n",
      "gamma secretase inhibitor\n",
      "12650\n",
      "dopamine receptor antagonist\n",
      "12700\n",
      "serotonin receptor antagonist\n",
      "12750\n",
      "serotonin receptor antagonist\n",
      "12800\n",
      "EGFR inhibitor\n",
      "12850\n",
      "glucocorticoid receptor agonist\n",
      "12900\n",
      "calcium channel blocker\n",
      "12950\n",
      "gamma secretase inhibitor\n",
      "13000\n",
      "gamma secretase inhibitor\n",
      "13000\n",
      "calcium channel blocker\n",
      "13050\n",
      "histamine receptor antagonist\n",
      "13100\n",
      "tubulin polymerization inhibitor\n",
      "13150\n",
      "topoisomerase inhibitor\n",
      "13200\n",
      "HMGCR inhibitor\n",
      "13250\n",
      "acetylcholine receptor antagonist\n",
      "13300\n",
      "JAK inhibitor\n",
      "13350\n",
      "bacterial DNA gyrase inhibitor\n",
      "13400\n",
      "HCV inhibitor\n",
      "13450\n",
      "histamine receptor antagonist\n",
      "13500\n",
      "bacterial DNA gyrase inhibitor\n",
      "13550\n",
      "cyclooxygenase inhibitor\n",
      "13600\n",
      "topoisomerase inhibitor\n",
      "13650\n",
      "EGFR inhibitor\n",
      "13700\n",
      "serotonin receptor antagonist\n",
      "13750\n",
      "progesterone receptor agonist\n",
      "13800\n",
      "topoisomerase inhibitor\n",
      "13850\n",
      "serotonin receptor agonist\n",
      "13900\n",
      "bacterial DNA gyrase inhibitor\n",
      "13950\n",
      "sodium channel blocker\n",
      "14000\n",
      "sodium channel blocker\n",
      "14000\n",
      "calcium channel blocker\n",
      "14050\n",
      "HIV protease inhibitor\n",
      "14100\n",
      "adrenergic receptor antagonist\n",
      "14150\n",
      "cyclooxygenase inhibitor\n",
      "14200\n",
      "serotonin receptor antagonist\n",
      "14250\n",
      "histamine receptor antagonist\n",
      "14300\n",
      "adrenergic receptor antagonist\n",
      "14350\n",
      "bacterial DNA gyrase inhibitor\n",
      "14400\n",
      "glucocorticoid receptor agonist\n",
      "14450\n",
      "cyclooxygenase inhibitor\n",
      "14500\n",
      "dopamine receptor antagonist|serotonin receptor antagonist\n",
      "14550\n",
      "estrogen receptor agonist\n",
      "14600\n",
      "p38 MAPK inhibitor\n",
      "14650\n",
      "acetylcholine receptor agonist\n",
      "14700\n",
      "JAK inhibitor\n",
      "14750\n",
      "potassium channel blocker\n",
      "14800\n",
      "phosphodiesterase inhibitor\n",
      "14850\n",
      "adrenergic receptor agonist\n",
      "14900\n",
      "topoisomerase inhibitor\n",
      "14950\n",
      "sodium channel blocker\n",
      "15000\n",
      "sodium channel blocker\n",
      "15000\n",
      "histamine receptor antagonist\n",
      "15050\n",
      "potassium channel blocker\n",
      "15100\n",
      "DNA inhibitor\n",
      "15150\n",
      "mTOR inhibitor|PI3K inhibitor\n",
      "15200\n",
      "dopamine receptor agonist\n",
      "15250\n",
      "mTOR inhibitor\n",
      "15300\n",
      "EGFR inhibitor\n",
      "15350\n",
      "calcium channel blocker\n",
      "15400\n",
      "HSP inhibitor\n",
      "15450\n",
      "PI3K inhibitor\n",
      "15500\n",
      "DNA inhibitor\n",
      "15550\n",
      "HIV protease inhibitor\n",
      "15600\n",
      "PI3K inhibitor\n",
      "15650\n",
      "JAK inhibitor\n",
      "15700\n",
      "Aurora kinase inhibitor\n",
      "15750\n",
      "dopamine receptor antagonist\n",
      "15800\n",
      "dopamine receptor antagonist\n",
      "15850\n",
      "AKT inhibitor\n",
      "15900\n",
      "mTOR inhibitor|PI3K inhibitor\n",
      "15950\n",
      "mTOR inhibitor\n",
      "16000\n",
      "mTOR inhibitor\n",
      "16000\n",
      "bacterial cell wall synthesis inhibitor\n",
      "16050\n",
      "mTOR inhibitor|PI3K inhibitor\n",
      "16100\n",
      "topoisomerase inhibitor\n",
      "16150\n",
      "p38 MAPK inhibitor\n",
      "16200\n",
      "adrenergic receptor agonist\n",
      "16250\n",
      "topoisomerase inhibitor\n",
      "16300\n",
      "HDAC inhibitor\n",
      "16350\n",
      "MEK inhibitor\n",
      "16400\n",
      "EGFR inhibitor\n",
      "16450\n",
      "phosphodiesterase inhibitor\n",
      "16500\n",
      "calcium channel blocker\n",
      "16550\n",
      "angiotensin converting enzyme inhibitor\n",
      "16600\n",
      "tubulin polymerization inhibitor\n",
      "16650\n",
      "acetylcholine receptor antagonist\n",
      "16700\n",
      "potassium channel blocker\n",
      "16750\n",
      "mTOR inhibitor\n",
      "16800\n",
      "sodium channel blocker\n",
      "16850\n",
      "tubulin polymerization inhibitor\n",
      "16900\n",
      "progesterone receptor agonist\n",
      "16950\n",
      "HDAC inhibitor\n",
      "17000\n",
      "HDAC inhibitor\n",
      "17000\n",
      "dopamine receptor antagonist|serotonin receptor antagonist\n",
      "17050\n",
      "CDK inhibitor\n",
      "17100\n",
      "potassium channel blocker\n",
      "17150\n",
      "HSP inhibitor\n",
      "17200\n",
      "CDK inhibitor\n",
      "17250\n",
      "HDAC inhibitor\n",
      "17300\n",
      "p38 MAPK inhibitor\n",
      "17350\n",
      "acetylcholine receptor antagonist\n",
      "17400\n",
      "adrenergic receptor agonist\n",
      "17450\n",
      "dopamine receptor antagonist|serotonin receptor antagonist\n",
      "17500\n",
      "cyclooxygenase inhibitor\n",
      "17550\n",
      "dopamine receptor antagonist\n",
      "17600\n",
      "estrogen receptor agonist\n",
      "17650\n",
      "phosphodiesterase inhibitor\n",
      "17700\n",
      "histamine receptor antagonist\n",
      "17750\n",
      "serotonin receptor antagonist\n",
      "17800\n",
      "EGFR inhibitor\n",
      "17850\n",
      "EGFR inhibitor\n",
      "17900\n",
      "adrenergic receptor antagonist\n",
      "17950\n",
      "glutamate receptor antagonist\n",
      "18000\n",
      "glutamate receptor antagonist\n",
      "18000\n",
      "serotonin receptor antagonist\n",
      "18050\n",
      "calcium channel blocker\n",
      "18100\n",
      "dopamine receptor antagonist\n",
      "18150\n",
      "calcium channel blocker\n",
      "18200\n",
      "MEK inhibitor\n",
      "18250\n",
      "progesterone receptor agonist\n",
      "18300\n",
      "histamine receptor antagonist\n",
      "18350\n",
      "phosphodiesterase inhibitor\n",
      "18400\n",
      "angiotensin converting enzyme inhibitor\n",
      "18450\n",
      "calcium channel blocker\n",
      "18500\n",
      "histamine receptor antagonist\n",
      "18550\n",
      "dopamine receptor antagonist\n",
      "18600\n",
      "phosphodiesterase inhibitor\n",
      "18650\n",
      "dopamine receptor antagonist\n",
      "18700\n",
      "acetylcholine receptor antagonist\n",
      "18750\n",
      "phosphodiesterase inhibitor\n",
      "18800\n",
      "phosphodiesterase inhibitor\n",
      "18850\n",
      "glucocorticoid receptor agonist\n",
      "18900\n",
      "glucocorticoid receptor agonist\n",
      "18950\n",
      "estrogen receptor agonist\n",
      "19000\n",
      "estrogen receptor agonist\n",
      "19000\n",
      "EGFR inhibitor\n",
      "19050\n",
      "PI3K inhibitor\n",
      "19100\n",
      "CDK inhibitor\n",
      "19150\n",
      "phosphodiesterase inhibitor\n",
      "19200\n",
      "DNA inhibitor\n",
      "19250\n",
      "JAK inhibitor\n",
      "19300\n",
      "EGFR inhibitor\n",
      "19350\n",
      "bacterial DNA gyrase inhibitor\n",
      "19400\n",
      "progesterone receptor agonist\n",
      "19450\n",
      "histamine receptor antagonist\n",
      "19500\n",
      "angiotensin receptor antagonist\n",
      "19550\n",
      "estrogen receptor agonist\n",
      "19600\n",
      "angiotensin converting enzyme inhibitor\n",
      "19650\n",
      "potassium channel blocker\n",
      "19700\n",
      "acetylcholine receptor antagonist\n",
      "19750\n",
      "phosphodiesterase inhibitor\n",
      "19800\n",
      "acetylcholine receptor antagonist\n",
      "19850\n",
      "histamine receptor antagonist\n",
      "19900\n",
      "bacterial cell wall synthesis inhibitor\n",
      "19950\n",
      "retinoid receptor agonist\n",
      "20000\n",
      "retinoid receptor agonist\n",
      "20000\n",
      "angiotensin converting enzyme inhibitor\n",
      "20050\n",
      "MEK inhibitor\n",
      "20100\n",
      "serotonin receptor antagonist\n",
      "20150\n",
      "glucocorticoid receptor agonist\n",
      "20200\n",
      "phosphodiesterase inhibitor\n",
      "20250\n",
      "bacterial cell wall synthesis inhibitor\n",
      "20300\n",
      "tubulin polymerization inhibitor\n",
      "20350\n",
      "acetylcholine receptor antagonist\n",
      "20400\n",
      "HDAC inhibitor\n",
      "20450\n",
      "phosphodiesterase inhibitor\n",
      "20500\n",
      "serotonin receptor agonist\n",
      "20550\n",
      "cyclooxygenase inhibitor\n",
      "20600\n",
      "glucocorticoid receptor agonist\n",
      "20650\n",
      "mTOR inhibitor\n",
      "20700\n",
      "adrenergic receptor antagonist\n",
      "20750\n",
      "CDK inhibitor\n",
      "20800\n",
      "phosphodiesterase inhibitor\n",
      "20850\n",
      "CDK inhibitor\n",
      "20900\n",
      "topoisomerase inhibitor\n",
      "20950\n",
      "estrogen receptor agonist\n",
      "21000\n",
      "estrogen receptor agonist\n",
      "21000\n",
      "serotonin receptor antagonist\n",
      "21050\n",
      "histamine receptor antagonist\n",
      "21100\n",
      "glucocorticoid receptor agonist\n",
      "21150\n",
      "HSP inhibitor\n",
      "21200\n",
      "adrenergic receptor antagonist\n",
      "21250\n",
      "cyclooxygenase inhibitor\n",
      "21300\n",
      "RNA polymerase inhibitor\n",
      "21350\n",
      "CC chemokine receptor antagonist\n",
      "21400\n",
      "bacterial DNA gyrase inhibitor\n",
      "21450\n",
      "histamine receptor antagonist\n",
      "21500\n",
      "HCV inhibitor\n",
      "21550\n",
      "adrenergic receptor antagonist\n",
      "21600\n",
      "MEK inhibitor\n",
      "21650\n",
      "HCV inhibitor\n",
      "21700\n",
      "acetylcholine receptor agonist\n",
      "21750\n",
      "HCV inhibitor\n",
      "21800\n",
      "sterol demethylase inhibitor\n",
      "21850\n",
      "bacterial cell wall synthesis inhibitor\n",
      "21900\n",
      "tubulin polymerization inhibitor\n",
      "21950\n",
      "dopamine receptor agonist\n",
      "22000\n",
      "dopamine receptor agonist\n",
      "22000\n",
      "phosphodiesterase inhibitor\n",
      "22050\n",
      "adrenergic receptor agonist\n",
      "22100\n",
      "bacterial cell wall synthesis inhibitor\n",
      "22150\n",
      "adrenergic receptor antagonist\n",
      "22200\n",
      "calcium channel blocker\n",
      "22250\n",
      "mTOR inhibitor|PI3K inhibitor\n",
      "22300\n",
      "adrenergic receptor antagonist\n",
      "22350\n",
      "CDK inhibitor\n",
      "22400\n",
      "dopamine receptor antagonist\n",
      "22450\n",
      "RNA polymerase inhibitor\n",
      "22500\n",
      "topoisomerase inhibitor\n",
      "22550\n",
      "sterol demethylase inhibitor\n",
      "22600\n",
      "bacterial DNA gyrase inhibitor\n",
      "22650\n",
      "acetylcholine receptor antagonist\n",
      "22700\n",
      "histamine receptor antagonist\n",
      "22750\n",
      "dopamine receptor antagonist\n",
      "22800\n",
      "sodium channel blocker\n",
      "22850\n",
      "acetylcholine receptor agonist\n",
      "22900\n",
      "bacterial cell wall synthesis inhibitor\n",
      "22950\n",
      "HDAC inhibitor\n",
      "23000\n",
      "HDAC inhibitor\n",
      "23000\n",
      "cyclooxygenase inhibitor\n",
      "23050\n",
      "HCV inhibitor\n",
      "23100\n",
      "dopamine receptor antagonist\n",
      "23150\n",
      "phosphodiesterase inhibitor\n",
      "23200\n",
      "nucleoside reverse transcriptase inhibitor\n",
      "23250\n",
      "MEK inhibitor\n",
      "23300\n",
      "phosphodiesterase inhibitor\n",
      "23350\n",
      "topoisomerase inhibitor\n",
      "23400\n",
      "adrenergic receptor antagonist\n",
      "23450\n",
      "adrenergic receptor agonist\n",
      "23500\n",
      "bacterial DNA gyrase inhibitor\n",
      "23550\n",
      "cyclooxygenase inhibitor\n",
      "23600\n",
      "calcium channel blocker\n",
      "23650\n",
      "sodium channel blocker\n",
      "23700\n",
      "cyclooxygenase inhibitor\n",
      "23750\n",
      "RNA polymerase inhibitor\n",
      "23800\n",
      "CC chemokine receptor antagonist\n",
      "23850\n",
      "adrenergic receptor agonist\n",
      "23900\n",
      "HSP inhibitor\n",
      "23950\n",
      "dopamine receptor antagonist\n",
      "24000\n",
      "dopamine receptor antagonist\n",
      "24000\n",
      "cyclooxygenase inhibitor\n",
      "24050\n",
      "p38 MAPK inhibitor\n",
      "24100\n",
      "vitamin D receptor agonist\n",
      "24150\n",
      "PI3K inhibitor\n",
      "24200\n",
      "androgen receptor antagonist\n",
      "24250\n"
     ]
    },
    {
     "name": "stdout",
     "output_type": "stream",
     "text": [
      "dopamine receptor antagonist\n",
      "24300\n",
      "HCV inhibitor\n",
      "24350\n",
      "dopamine receptor agonist\n",
      "24400\n",
      "sterol demethylase inhibitor\n",
      "24450\n",
      "MEK inhibitor\n",
      "24500\n",
      "histamine receptor antagonist\n",
      "24550\n",
      "DNA inhibitor\n",
      "24600\n",
      "glutamate receptor antagonist\n",
      "24650\n"
     ]
    }
   ],
   "source": [
    "for i, row in enumerate(df.iterrows()):\n",
    "    paths = row[1][\"combined_paths\"].split(\",\")\n",
    "    #show_image(paths)\n",
    "    df.loc[row[0], [\"DNA_phase_mean\", \"ER_phase_mean\", \"RNA_phase_mean\", \"AGP_phase_mean\", \"Mito_phase_mean\",\n",
    "                \"DNA_phase_std\", \"ER_phase_std\", \"RNA_phase_std\", \"AGP_phase_std\", \"Mito_phase_std\"]] = (calc_mean(paths, phase_root))\n",
    "    \n",
    "    if i % 50  == 0 and i != 0:\n",
    "        print(row[1].Metadata_moa)\n",
    "        print(row[0])\n",
    "\n",
    "    if i % 1000 == 0 and i != 0:\n",
    "        print(row[1].Metadata_moa)\n",
    "        print(row[0])\n"
   ]
  },
  {
   "cell_type": "code",
   "execution_count": 30,
   "metadata": {},
   "outputs": [
    {
     "data": {
      "text/html": [
       "<div>\n",
       "<style scoped>\n",
       "    .dataframe tbody tr th:only-of-type {\n",
       "        vertical-align: middle;\n",
       "    }\n",
       "\n",
       "    .dataframe tbody tr th {\n",
       "        vertical-align: top;\n",
       "    }\n",
       "\n",
       "    .dataframe thead th {\n",
       "        text-align: right;\n",
       "    }\n",
       "</style>\n",
       "<table border=\"1\" class=\"dataframe\">\n",
       "  <thead>\n",
       "    <tr style=\"text-align: right;\">\n",
       "      <th></th>\n",
       "      <th>Unnamed: 0.2</th>\n",
       "      <th>Unnamed: 0.1</th>\n",
       "      <th>Unnamed: 0</th>\n",
       "      <th>Metadata_Plate</th>\n",
       "      <th>Metadata_Well</th>\n",
       "      <th>Metadata_Site</th>\n",
       "      <th>Metadata_broad_sample</th>\n",
       "      <th>Metadata_moa</th>\n",
       "      <th>Metadata_mmoles_per_liter</th>\n",
       "      <th>Metadata_dose_recode</th>\n",
       "      <th>...</th>\n",
       "      <th>DNA_phase_mean</th>\n",
       "      <th>ER_phase_mean</th>\n",
       "      <th>RNA_phase_mean</th>\n",
       "      <th>AGP_phase_mean</th>\n",
       "      <th>Mito_phase_mean</th>\n",
       "      <th>DNA_phase_std</th>\n",
       "      <th>ER_phase_std</th>\n",
       "      <th>RNA_phase_std</th>\n",
       "      <th>AGP_phase_std</th>\n",
       "      <th>Mito_phase_std</th>\n",
       "    </tr>\n",
       "  </thead>\n",
       "  <tbody>\n",
       "    <tr>\n",
       "      <th>0</th>\n",
       "      <td>0</td>\n",
       "      <td>0</td>\n",
       "      <td>29268</td>\n",
       "      <td>SQ00014812</td>\n",
       "      <td>A07</td>\n",
       "      <td>1</td>\n",
       "      <td>BRD-K74363950-004-01-0</td>\n",
       "      <td>acetylcholine receptor antagonist</td>\n",
       "      <td>10.0</td>\n",
       "      <td>6</td>\n",
       "      <td>...</td>\n",
       "      <td>14.897373</td>\n",
       "      <td>14.717810</td>\n",
       "      <td>16.313951</td>\n",
       "      <td>16.460774</td>\n",
       "      <td>16.558797</td>\n",
       "      <td>27.590426</td>\n",
       "      <td>26.235057</td>\n",
       "      <td>28.108900</td>\n",
       "      <td>27.690240</td>\n",
       "      <td>28.233264</td>\n",
       "    </tr>\n",
       "    <tr>\n",
       "      <th>1</th>\n",
       "      <td>1</td>\n",
       "      <td>1</td>\n",
       "      <td>29269</td>\n",
       "      <td>SQ00014812</td>\n",
       "      <td>A07</td>\n",
       "      <td>2</td>\n",
       "      <td>BRD-K74363950-004-01-0</td>\n",
       "      <td>acetylcholine receptor antagonist</td>\n",
       "      <td>10.0</td>\n",
       "      <td>6</td>\n",
       "      <td>...</td>\n",
       "      <td>15.502067</td>\n",
       "      <td>15.679827</td>\n",
       "      <td>17.176559</td>\n",
       "      <td>17.079818</td>\n",
       "      <td>17.042732</td>\n",
       "      <td>28.028441</td>\n",
       "      <td>27.070179</td>\n",
       "      <td>27.706312</td>\n",
       "      <td>27.678324</td>\n",
       "      <td>27.823364</td>\n",
       "    </tr>\n",
       "    <tr>\n",
       "      <th>2</th>\n",
       "      <td>2</td>\n",
       "      <td>2</td>\n",
       "      <td>29270</td>\n",
       "      <td>SQ00014812</td>\n",
       "      <td>A07</td>\n",
       "      <td>3</td>\n",
       "      <td>BRD-K74363950-004-01-0</td>\n",
       "      <td>acetylcholine receptor antagonist</td>\n",
       "      <td>10.0</td>\n",
       "      <td>6</td>\n",
       "      <td>...</td>\n",
       "      <td>15.488281</td>\n",
       "      <td>15.526694</td>\n",
       "      <td>17.002642</td>\n",
       "      <td>16.928151</td>\n",
       "      <td>16.918280</td>\n",
       "      <td>28.187650</td>\n",
       "      <td>27.011136</td>\n",
       "      <td>27.980337</td>\n",
       "      <td>27.996741</td>\n",
       "      <td>28.453386</td>\n",
       "    </tr>\n",
       "    <tr>\n",
       "      <th>3</th>\n",
       "      <td>3</td>\n",
       "      <td>3</td>\n",
       "      <td>29271</td>\n",
       "      <td>SQ00014812</td>\n",
       "      <td>A07</td>\n",
       "      <td>4</td>\n",
       "      <td>BRD-K74363950-004-01-0</td>\n",
       "      <td>acetylcholine receptor antagonist</td>\n",
       "      <td>10.0</td>\n",
       "      <td>6</td>\n",
       "      <td>...</td>\n",
       "      <td>15.398110</td>\n",
       "      <td>14.826268</td>\n",
       "      <td>16.835911</td>\n",
       "      <td>16.841842</td>\n",
       "      <td>16.932640</td>\n",
       "      <td>28.252494</td>\n",
       "      <td>26.313483</td>\n",
       "      <td>27.867494</td>\n",
       "      <td>27.653923</td>\n",
       "      <td>28.156585</td>\n",
       "    </tr>\n",
       "    <tr>\n",
       "      <th>4</th>\n",
       "      <td>4</td>\n",
       "      <td>4</td>\n",
       "      <td>29272</td>\n",
       "      <td>SQ00014812</td>\n",
       "      <td>A07</td>\n",
       "      <td>5</td>\n",
       "      <td>BRD-K74363950-004-01-0</td>\n",
       "      <td>acetylcholine receptor antagonist</td>\n",
       "      <td>10.0</td>\n",
       "      <td>6</td>\n",
       "      <td>...</td>\n",
       "      <td>14.863988</td>\n",
       "      <td>14.994614</td>\n",
       "      <td>16.501836</td>\n",
       "      <td>16.418134</td>\n",
       "      <td>16.775979</td>\n",
       "      <td>27.790710</td>\n",
       "      <td>26.733852</td>\n",
       "      <td>27.909830</td>\n",
       "      <td>27.890779</td>\n",
       "      <td>28.403079</td>\n",
       "    </tr>\n",
       "    <tr>\n",
       "      <th>...</th>\n",
       "      <td>...</td>\n",
       "      <td>...</td>\n",
       "      <td>...</td>\n",
       "      <td>...</td>\n",
       "      <td>...</td>\n",
       "      <td>...</td>\n",
       "      <td>...</td>\n",
       "      <td>...</td>\n",
       "      <td>...</td>\n",
       "      <td>...</td>\n",
       "      <td>...</td>\n",
       "      <td>...</td>\n",
       "      <td>...</td>\n",
       "      <td>...</td>\n",
       "      <td>...</td>\n",
       "      <td>...</td>\n",
       "      <td>...</td>\n",
       "      <td>...</td>\n",
       "      <td>...</td>\n",
       "      <td>...</td>\n",
       "      <td>...</td>\n",
       "    </tr>\n",
       "    <tr>\n",
       "      <th>24693</th>\n",
       "      <td>24693</td>\n",
       "      <td>24694</td>\n",
       "      <td>14394</td>\n",
       "      <td>SQ00015138</td>\n",
       "      <td>F10</td>\n",
       "      <td>4</td>\n",
       "      <td>DMSO</td>\n",
       "      <td>unknown</td>\n",
       "      <td>0.0</td>\n",
       "      <td>0</td>\n",
       "      <td>...</td>\n",
       "      <td>15.078905</td>\n",
       "      <td>15.087034</td>\n",
       "      <td>16.205604</td>\n",
       "      <td>16.412923</td>\n",
       "      <td>14.937506</td>\n",
       "      <td>28.293752</td>\n",
       "      <td>26.653222</td>\n",
       "      <td>29.040965</td>\n",
       "      <td>28.717168</td>\n",
       "      <td>27.904800</td>\n",
       "    </tr>\n",
       "    <tr>\n",
       "      <th>24694</th>\n",
       "      <td>24694</td>\n",
       "      <td>24695</td>\n",
       "      <td>10798</td>\n",
       "      <td>SQ00015121</td>\n",
       "      <td>J18</td>\n",
       "      <td>8</td>\n",
       "      <td>DMSO</td>\n",
       "      <td>unknown</td>\n",
       "      <td>0.0</td>\n",
       "      <td>0</td>\n",
       "      <td>...</td>\n",
       "      <td>14.888945</td>\n",
       "      <td>14.897250</td>\n",
       "      <td>16.544727</td>\n",
       "      <td>16.452002</td>\n",
       "      <td>16.435984</td>\n",
       "      <td>28.473929</td>\n",
       "      <td>26.570945</td>\n",
       "      <td>28.388983</td>\n",
       "      <td>28.417497</td>\n",
       "      <td>28.540416</td>\n",
       "    </tr>\n",
       "    <tr>\n",
       "      <th>24695</th>\n",
       "      <td>24695</td>\n",
       "      <td>24696</td>\n",
       "      <td>10793</td>\n",
       "      <td>SQ00015121</td>\n",
       "      <td>J18</td>\n",
       "      <td>3</td>\n",
       "      <td>DMSO</td>\n",
       "      <td>unknown</td>\n",
       "      <td>0.0</td>\n",
       "      <td>0</td>\n",
       "      <td>...</td>\n",
       "      <td>14.583886</td>\n",
       "      <td>14.312309</td>\n",
       "      <td>16.164289</td>\n",
       "      <td>15.906480</td>\n",
       "      <td>16.160099</td>\n",
       "      <td>28.355928</td>\n",
       "      <td>25.694751</td>\n",
       "      <td>28.296243</td>\n",
       "      <td>28.387354</td>\n",
       "      <td>28.776493</td>\n",
       "    </tr>\n",
       "    <tr>\n",
       "      <th>24696</th>\n",
       "      <td>24696</td>\n",
       "      <td>24697</td>\n",
       "      <td>21596</td>\n",
       "      <td>SQ00015173</td>\n",
       "      <td>B06</td>\n",
       "      <td>6</td>\n",
       "      <td>DMSO</td>\n",
       "      <td>unknown</td>\n",
       "      <td>0.0</td>\n",
       "      <td>0</td>\n",
       "      <td>...</td>\n",
       "      <td>14.525934</td>\n",
       "      <td>15.113889</td>\n",
       "      <td>16.262258</td>\n",
       "      <td>15.853997</td>\n",
       "      <td>16.212820</td>\n",
       "      <td>28.460621</td>\n",
       "      <td>26.879752</td>\n",
       "      <td>28.420778</td>\n",
       "      <td>28.168313</td>\n",
       "      <td>29.250059</td>\n",
       "    </tr>\n",
       "    <tr>\n",
       "      <th>24697</th>\n",
       "      <td>24697</td>\n",
       "      <td>24698</td>\n",
       "      <td>4497</td>\n",
       "      <td>SQ00015052</td>\n",
       "      <td>J14</td>\n",
       "      <td>7</td>\n",
       "      <td>DMSO</td>\n",
       "      <td>unknown</td>\n",
       "      <td>0.0</td>\n",
       "      <td>0</td>\n",
       "      <td>...</td>\n",
       "      <td>14.440325</td>\n",
       "      <td>15.256151</td>\n",
       "      <td>16.441269</td>\n",
       "      <td>16.158356</td>\n",
       "      <td>16.274346</td>\n",
       "      <td>27.589900</td>\n",
       "      <td>26.597115</td>\n",
       "      <td>28.011938</td>\n",
       "      <td>27.551892</td>\n",
       "      <td>28.293042</td>\n",
       "    </tr>\n",
       "  </tbody>\n",
       "</table>\n",
       "<p>24698 rows × 39 columns</p>\n",
       "</div>"
      ],
      "text/plain": [
       "       Unnamed: 0.2  Unnamed: 0.1  Unnamed: 0 Metadata_Plate Metadata_Well  \\\n",
       "0                 0             0       29268     SQ00014812           A07   \n",
       "1                 1             1       29269     SQ00014812           A07   \n",
       "2                 2             2       29270     SQ00014812           A07   \n",
       "3                 3             3       29271     SQ00014812           A07   \n",
       "4                 4             4       29272     SQ00014812           A07   \n",
       "...             ...           ...         ...            ...           ...   \n",
       "24693         24693         24694       14394     SQ00015138           F10   \n",
       "24694         24694         24695       10798     SQ00015121           J18   \n",
       "24695         24695         24696       10793     SQ00015121           J18   \n",
       "24696         24696         24697       21596     SQ00015173           B06   \n",
       "24697         24697         24698        4497     SQ00015052           J14   \n",
       "\n",
       "       Metadata_Site   Metadata_broad_sample  \\\n",
       "0                  1  BRD-K74363950-004-01-0   \n",
       "1                  2  BRD-K74363950-004-01-0   \n",
       "2                  3  BRD-K74363950-004-01-0   \n",
       "3                  4  BRD-K74363950-004-01-0   \n",
       "4                  5  BRD-K74363950-004-01-0   \n",
       "...              ...                     ...   \n",
       "24693              4                    DMSO   \n",
       "24694              8                    DMSO   \n",
       "24695              3                    DMSO   \n",
       "24696              6                    DMSO   \n",
       "24697              7                    DMSO   \n",
       "\n",
       "                            Metadata_moa  Metadata_mmoles_per_liter  \\\n",
       "0      acetylcholine receptor antagonist                       10.0   \n",
       "1      acetylcholine receptor antagonist                       10.0   \n",
       "2      acetylcholine receptor antagonist                       10.0   \n",
       "3      acetylcholine receptor antagonist                       10.0   \n",
       "4      acetylcholine receptor antagonist                       10.0   \n",
       "...                                  ...                        ...   \n",
       "24693                            unknown                        0.0   \n",
       "24694                            unknown                        0.0   \n",
       "24695                            unknown                        0.0   \n",
       "24696                            unknown                        0.0   \n",
       "24697                            unknown                        0.0   \n",
       "\n",
       "       Metadata_dose_recode  ... DNA_phase_mean ER_phase_mean RNA_phase_mean  \\\n",
       "0                         6  ...      14.897373     14.717810      16.313951   \n",
       "1                         6  ...      15.502067     15.679827      17.176559   \n",
       "2                         6  ...      15.488281     15.526694      17.002642   \n",
       "3                         6  ...      15.398110     14.826268      16.835911   \n",
       "4                         6  ...      14.863988     14.994614      16.501836   \n",
       "...                     ...  ...            ...           ...            ...   \n",
       "24693                     0  ...      15.078905     15.087034      16.205604   \n",
       "24694                     0  ...      14.888945     14.897250      16.544727   \n",
       "24695                     0  ...      14.583886     14.312309      16.164289   \n",
       "24696                     0  ...      14.525934     15.113889      16.262258   \n",
       "24697                     0  ...      14.440325     15.256151      16.441269   \n",
       "\n",
       "      AGP_phase_mean Mito_phase_mean  DNA_phase_std  ER_phase_std  \\\n",
       "0          16.460774       16.558797      27.590426     26.235057   \n",
       "1          17.079818       17.042732      28.028441     27.070179   \n",
       "2          16.928151       16.918280      28.187650     27.011136   \n",
       "3          16.841842       16.932640      28.252494     26.313483   \n",
       "4          16.418134       16.775979      27.790710     26.733852   \n",
       "...              ...             ...            ...           ...   \n",
       "24693      16.412923       14.937506      28.293752     26.653222   \n",
       "24694      16.452002       16.435984      28.473929     26.570945   \n",
       "24695      15.906480       16.160099      28.355928     25.694751   \n",
       "24696      15.853997       16.212820      28.460621     26.879752   \n",
       "24697      16.158356       16.274346      27.589900     26.597115   \n",
       "\n",
       "      RNA_phase_std AGP_phase_std  Mito_phase_std  \n",
       "0         28.108900     27.690240       28.233264  \n",
       "1         27.706312     27.678324       27.823364  \n",
       "2         27.980337     27.996741       28.453386  \n",
       "3         27.867494     27.653923       28.156585  \n",
       "4         27.909830     27.890779       28.403079  \n",
       "...             ...           ...             ...  \n",
       "24693     29.040965     28.717168       27.904800  \n",
       "24694     28.388983     28.417497       28.540416  \n",
       "24695     28.296243     28.387354       28.776493  \n",
       "24696     28.420778     28.168313       29.250059  \n",
       "24697     28.011938     27.551892       28.293042  \n",
       "\n",
       "[24698 rows x 39 columns]"
      ]
     },
     "execution_count": 30,
     "metadata": {},
     "output_type": "execute_result"
    }
   ],
   "source": [
    "df"
   ]
  },
  {
   "cell_type": "code",
   "execution_count": 31,
   "metadata": {},
   "outputs": [],
   "source": [
    "stats_columns = [\"DNA_phase_mean\", \"ER_phase_mean\", \"RNA_phase_mean\", \"AGP_phase_mean\", \"Mito_phase_mean\", \"DNA_phase_std\", \"ER_phase_std\", \"RNA_phase_std\", \"AGP_phase_std\", \"Mito_phase_std\"]"
   ]
  },
  {
   "cell_type": "code",
   "execution_count": 32,
   "metadata": {},
   "outputs": [],
   "source": [
    "mean_data = df.groupby(\"Metadata_Plate\")[stats_columns].mean()"
   ]
  },
  {
   "cell_type": "code",
   "execution_count": 37,
   "metadata": {},
   "outputs": [
    {
     "ename": "AttributeError",
     "evalue": "'DataFrame' object has no attribute 'Index'",
     "output_type": "error",
     "traceback": [
      "\u001b[0;31m---------------------------------------------------------------------------\u001b[0m",
      "\u001b[0;31mAttributeError\u001b[0m                            Traceback (most recent call last)",
      "Cell \u001b[0;32mIn[37], line 1\u001b[0m\n\u001b[0;32m----> 1\u001b[0m mean_data[\u001b[38;5;124m\"\u001b[39m\u001b[38;5;124mplate\u001b[39m\u001b[38;5;124m\"\u001b[39m] \u001b[38;5;241m=\u001b[39m \u001b[43mmean_data\u001b[49m\u001b[38;5;241;43m.\u001b[39;49m\u001b[43mIndex\u001b[49m\n",
      "File \u001b[0;32m~/miniconda3/envs/umm/lib/python3.9/site-packages/pandas/core/generic.py:6204\u001b[0m, in \u001b[0;36mNDFrame.__getattr__\u001b[0;34m(self, name)\u001b[0m\n\u001b[1;32m   6197\u001b[0m \u001b[38;5;28;01mif\u001b[39;00m (\n\u001b[1;32m   6198\u001b[0m     name \u001b[38;5;129;01mnot\u001b[39;00m \u001b[38;5;129;01min\u001b[39;00m \u001b[38;5;28mself\u001b[39m\u001b[38;5;241m.\u001b[39m_internal_names_set\n\u001b[1;32m   6199\u001b[0m     \u001b[38;5;129;01mand\u001b[39;00m name \u001b[38;5;129;01mnot\u001b[39;00m \u001b[38;5;129;01min\u001b[39;00m \u001b[38;5;28mself\u001b[39m\u001b[38;5;241m.\u001b[39m_metadata\n\u001b[1;32m   6200\u001b[0m     \u001b[38;5;129;01mand\u001b[39;00m name \u001b[38;5;129;01mnot\u001b[39;00m \u001b[38;5;129;01min\u001b[39;00m \u001b[38;5;28mself\u001b[39m\u001b[38;5;241m.\u001b[39m_accessors\n\u001b[1;32m   6201\u001b[0m     \u001b[38;5;129;01mand\u001b[39;00m \u001b[38;5;28mself\u001b[39m\u001b[38;5;241m.\u001b[39m_info_axis\u001b[38;5;241m.\u001b[39m_can_hold_identifiers_and_holds_name(name)\n\u001b[1;32m   6202\u001b[0m ):\n\u001b[1;32m   6203\u001b[0m     \u001b[38;5;28;01mreturn\u001b[39;00m \u001b[38;5;28mself\u001b[39m[name]\n\u001b[0;32m-> 6204\u001b[0m \u001b[38;5;28;01mreturn\u001b[39;00m \u001b[38;5;28;43mobject\u001b[39;49m\u001b[38;5;241;43m.\u001b[39;49m\u001b[38;5;21;43m__getattribute__\u001b[39;49m\u001b[43m(\u001b[49m\u001b[38;5;28;43mself\u001b[39;49m\u001b[43m,\u001b[49m\u001b[43m \u001b[49m\u001b[43mname\u001b[49m\u001b[43m)\u001b[49m\n",
      "\u001b[0;31mAttributeError\u001b[0m: 'DataFrame' object has no attribute 'Index'"
     ]
    }
   ],
   "source": [
    "mean_data[\"plate\"] = mean_data.Index"
   ]
  },
  {
   "cell_type": "code",
   "execution_count": 4,
   "metadata": {},
   "outputs": [
    {
     "ename": "NameError",
     "evalue": "name 'mean_data' is not defined",
     "output_type": "error",
     "traceback": [
      "\u001b[0;31m---------------------------------------------------------------------------\u001b[0m",
      "\u001b[0;31mNameError\u001b[0m                                 Traceback (most recent call last)",
      "Cell \u001b[0;32mIn[4], line 1\u001b[0m\n\u001b[0;32m----> 1\u001b[0m \u001b[43mmean_data\u001b[49m\u001b[38;5;241m.\u001b[39mreset_index()\u001b[38;5;241m.\u001b[39mto_csv(\u001b[38;5;124m\"\u001b[39m\u001b[38;5;124m/raid/user/data/JUMP/cpg0004-lincs/metadata/top20_moa_plate_phase_norms.csv\u001b[39m\u001b[38;5;124m\"\u001b[39m)\n",
      "\u001b[0;31mNameError\u001b[0m: name 'mean_data' is not defined"
     ]
    }
   ],
   "source": [
    "mean_data.reset_index().to_csv(\"/raid/user/data/JUMP/cpg0004-lincs/metadata/top20_moa_plate_phase_norms.csv\")"
   ]
  },
  {
   "cell_type": "code",
   "execution_count": null,
   "id": "64e2a0bf",
   "metadata": {},
   "outputs": [],
   "source": [
    "stats_columns = [\"DNA_mean\", \"ER_mean\", \"RNA_mean\", \"AGP_mean\", \"Mito_mean\", \"DNA_std\", \"ER_std\", \"RNA_std\", \"AGP_std\", \"Mito_std\"]"
   ]
  },
  {
   "cell_type": "code",
   "execution_count": null,
   "id": "ec534ba6",
   "metadata": {},
   "outputs": [],
   "source": [
    "mean_data = top_moa.groupby(\"Metadata_Plate\")[stats_columns].mean()"
   ]
  },
  {
   "cell_type": "code",
   "execution_count": null,
   "id": "960b0a30",
   "metadata": {},
   "outputs": [],
   "source": [
    "mean_data"
   ]
  },
  {
   "cell_type": "code",
   "execution_count": null,
   "id": "998d506d",
   "metadata": {},
   "outputs": [],
   "source": [
    "mean_data.to_csv(\"/storage/user/datasets/large-Cell-Painting-Dataset/datasets/CPG0004/top20_moa_plate_norms.csv\")"
   ]
  },
  {
   "cell_type": "code",
   "execution_count": null,
   "id": "67180c08",
   "metadata": {},
   "outputs": [],
   "source": [
    "mean_data.mean().values"
   ]
  },
  {
   "cell_type": "code",
   "execution_count": null,
   "id": "94108a74",
   "metadata": {},
   "outputs": [],
   "source": [
    "top_moa.Metadata_broad_sample.nunique()"
   ]
  },
  {
   "cell_type": "code",
   "execution_count": null,
   "id": "69121998",
   "metadata": {},
   "outputs": [],
   "source": [
    "top_moa[\"Metadata_broad_sample_ID\"] = top_moa.groupby([\"Metadata_broad_sample\"]).ngroup()"
   ]
  },
  {
   "cell_type": "code",
   "execution_count": null,
   "id": "7a73b9ae",
   "metadata": {},
   "outputs": [],
   "source": [
    "top_moa[\"Metadata_moa_ID\"]          = top_moa.groupby([\"Metadata_moa\"]         ).ngroup()"
   ]
  },
  {
   "cell_type": "code",
   "execution_count": null,
   "id": "cebd023d",
   "metadata": {},
   "outputs": [],
   "source": [
    "top_moa[\"Metadata_Plate_ID\"]        = top_moa.groupby([\"Metadata_Plate\"]       ).ngroup()"
   ]
  },
  {
   "cell_type": "code",
   "execution_count": null,
   "id": "d340cd93",
   "metadata": {},
   "outputs": [],
   "source": [
    "top_moa[\"combined_paths\"] = list(zip(top_moa.DNA, top_moa.ER, top_moa.RNA, top_moa.AGP, top_moa.Mito))"
   ]
  },
  {
   "cell_type": "code",
   "execution_count": null,
   "id": "21b5d0c0",
   "metadata": {},
   "outputs": [],
   "source": [
    "plate_splitting.head()"
   ]
  },
  {
   "cell_type": "code",
   "execution_count": null,
   "id": "109b56e0",
   "metadata": {},
   "outputs": [],
   "source": [
    "plate_split_maping = {plate: split for plate, split in zip(plate_splitting.Metadata_Plate, plate_splitting.LeaveReplicatesOut) }"
   ]
  },
  {
   "cell_type": "code",
   "execution_count": null,
   "id": "85390bf9",
   "metadata": {},
   "outputs": [],
   "source": [
    "top_moa[\"TT_split\"] = top_moa.Metadata_Plate.map(plate_split_maping)"
   ]
  },
  {
   "cell_type": "code",
   "execution_count": null,
   "id": "588c2367",
   "metadata": {},
   "outputs": [],
   "source": [
    "top_moa"
   ]
  },
  {
   "cell_type": "code",
   "execution_count": null,
   "id": "dc1bb63d",
   "metadata": {},
   "outputs": [],
   "source": [
    "top_moa[top_moa.TT_split == \"Training\"]"
   ]
  },
  {
   "cell_type": "code",
   "execution_count": null,
   "id": "ca479b5e",
   "metadata": {},
   "outputs": [],
   "source": [
    "top_moa[\"Unique_well\"] = top_moa[\"Metadata_Plate\"] + \"-\" + top_moa[\"Metadata_Well\"]"
   ]
  },
  {
   "cell_type": "code",
   "execution_count": null,
   "id": "7b366710",
   "metadata": {},
   "outputs": [],
   "source": [
    "top_moa[\"TV_split\"] = top_moa[\"TT_split\"]"
   ]
  },
  {
   "cell_type": "code",
   "execution_count": null,
   "id": "05d582a8",
   "metadata": {},
   "outputs": [],
   "source": [
    "top_moa[top_moa.TT_split == \"Training\"][\"TV_split\"] "
   ]
  },
  {
   "cell_type": "code",
   "execution_count": null,
   "id": "78f83206",
   "metadata": {},
   "outputs": [],
   "source": [
    "top_moa[\"Unique_well\"].unique()"
   ]
  },
  {
   "cell_type": "code",
   "execution_count": null,
   "id": "88660690",
   "metadata": {},
   "outputs": [],
   "source": [
    "translation_dict = {well: split_assigned for well, split_assigned in zip(top_moa[top_moa.TT_split == \"Training\"][\"Unique_well\"].unique(),\n",
    "    np.random.choice(['Training','Validation'], \n",
    "                     size=len(top_moa[top_moa.TT_split == \"Training\"][\"Unique_well\"].unique()),\n",
    "                     p = [0.85, 0.15]))}\n",
    "\n",
    "translation_dict_train = {well: split_assigned for well, split_assigned in zip(top_moa[top_moa.TT_split != \"Training\"][\"Unique_well\"].unique(),\n",
    "    np.random.choice(['Training'], \n",
    "                     size=len(top_moa[top_moa.TT_split != \"Training\"][\"Unique_well\"].unique()),\n",
    "                     p = [1.0]))}"
   ]
  },
  {
   "cell_type": "code",
   "execution_count": null,
   "id": "4050ce2c",
   "metadata": {},
   "outputs": [],
   "source": [
    "comb_trans = {**translation_dict,**translation_dict_train}"
   ]
  },
  {
   "cell_type": "code",
   "execution_count": null,
   "id": "7c6e2e8b",
   "metadata": {},
   "outputs": [],
   "source": [
    "top_moa[\"TV_split\"] = top_moa[\"Unique_well\"].map(comb_trans)"
   ]
  },
  {
   "cell_type": "code",
   "execution_count": null,
   "id": "4537f7fb",
   "metadata": {},
   "outputs": [],
   "source": [
    "top_moa"
   ]
  },
  {
   "cell_type": "code",
   "execution_count": null,
   "id": "09ae85e7",
   "metadata": {},
   "outputs": [],
   "source": [
    "def mappp(test_or_train, train_or_val):\n",
    "    if (test_or_train == train_or_val) and (test_or_train == \"Training\"):\n",
    "        return \"train\"\n",
    "    if test_or_train == \"Validation\":\n",
    "        return \"test\"\n",
    "    if train_or_val  == \"Validation\":\n",
    "        return \"val\""
   ]
  },
  {
   "cell_type": "code",
   "execution_count": null,
   "id": "c8e2393d",
   "metadata": {},
   "outputs": [],
   "source": [
    "top_moa[\"TTV_split\"] = top_moa[[\"TT_split\", \"TV_split\"]].apply(lambda x: mappp(x[0], x[1]), axis=1)"
   ]
  },
  {
   "cell_type": "code",
   "execution_count": null,
   "id": "d3006125",
   "metadata": {},
   "outputs": [],
   "source": [
    "top_moa[[\"TT_split\", \"TV_split\"]]"
   ]
  },
  {
   "cell_type": "code",
   "execution_count": null,
   "id": "062ac4fd",
   "metadata": {},
   "outputs": [],
   "source": [
    "top_moa.to_csv(\"/storage/user/datasets/large-Cell-Painting-Dataset/datasets/CPG0004/top20_moa_with_norm.csv\")"
   ]
  },
  {
   "cell_type": "code",
   "execution_count": null,
   "id": "9c20c1f8",
   "metadata": {},
   "outputs": [],
   "source": [
    "def map_path(DNA,ER,RNA,AGP,Mito):\n",
    "    return DNA+\",\"+ER+\",\"+RNA+\",\"+AGP+\",\"+Mito"
   ]
  },
  {
   "cell_type": "code",
   "execution_count": null,
   "id": "277bb7a4",
   "metadata": {},
   "outputs": [],
   "source": [
    "\n",
    "top_moa[\"combined_paths\"] = top_moa[[\"DNA\", \"ER\", \"RNA\", \"AGP\", \"Mito\"]].apply(lambda x: map_path(x[0], x[1], x[2], x[3], x[4], ), axis=1)"
   ]
  },
  {
   "cell_type": "code",
   "execution_count": null,
   "metadata": {},
   "outputs": [],
   "source": [
    "import numpy as np\n",
    "import pandas as pd"
   ]
  },
  {
   "cell_type": "code",
   "execution_count": null,
   "metadata": {},
   "outputs": [],
   "source": [
    "path = \"/storage/user/datasets/large-Cell-Painting-Dataset/datasets/CPG0004/top20_moa_with_norm.csv\""
   ]
  },
  {
   "cell_type": "code",
   "execution_count": null,
   "metadata": {},
   "outputs": [],
   "source": [
    "df = pd.read_csv(path, index_col=0, engine='python')"
   ]
  },
  {
   "cell_type": "code",
   "execution_count": null,
   "metadata": {},
   "outputs": [],
   "source": [
    "df"
   ]
  },
  {
   "cell_type": "code",
   "execution_count": null,
   "metadata": {},
   "outputs": [],
   "source": [
    "replicate_df = pd.DataFrame([[0,1],[0,2],[0,3],[0,4]], columns=[[\"dummy_var\",\"crop_region\"]])"
   ]
  },
  {
   "cell_type": "code",
   "execution_count": null,
   "metadata": {},
   "outputs": [],
   "source": [
    "replicate_df"
   ]
  },
  {
   "cell_type": "code",
   "execution_count": null,
   "metadata": {},
   "outputs": [],
   "source": [
    "combined = []\n",
    "\n",
    "for d in [1,2,3,4]:\n",
    "    df[\"crop_site\"] = d\n",
    "    combined.append(df.copy())"
   ]
  },
  {
   "cell_type": "code",
   "execution_count": null,
   "metadata": {},
   "outputs": [],
   "source": [
    "comb = pd.concat(combined)"
   ]
  },
  {
   "cell_type": "code",
   "execution_count": null,
   "metadata": {},
   "outputs": [],
   "source": [
    "comb.crop_site.unique()"
   ]
  },
  {
   "cell_type": "code",
   "execution_count": null,
   "metadata": {},
   "outputs": [],
   "source": [
    "def map_crop_site(path, crop_site):\n",
    "    return path[:-4] + \"_\" + str(crop_site) + path[-4:]\n",
    "    "
   ]
  },
  {
   "cell_type": "code",
   "execution_count": null,
   "metadata": {},
   "outputs": [],
   "source": [
    "for col in [\"DNA\", \"ER\", \"RNA\", \"AGP\", \"Mito\"]:\n",
    "    comb[col] = (comb[[col, \"crop_site\"]].apply(lambda x: map_crop_site(x[0], x[1]), axis=1))\n",
    "    "
   ]
  },
  {
   "cell_type": "code",
   "execution_count": null,
   "metadata": {},
   "outputs": [],
   "source": [
    "def map_path(DNA,ER,RNA,AGP,Mito):\n",
    "    return DNA+\",\"+ER+\",\"+RNA+\",\"+AGP+\",\"+Mito"
   ]
  },
  {
   "cell_type": "code",
   "execution_count": null,
   "metadata": {},
   "outputs": [],
   "source": [
    "\n",
    "comb[\"combined_paths\"] = comb[[\"DNA\", \"ER\", \"RNA\", \"AGP\", \"Mito\"]].apply(lambda x: map_path(x[0], x[1], x[2], x[3], x[4], ), axis=1)"
   ]
  },
  {
   "cell_type": "code",
   "execution_count": null,
   "metadata": {},
   "outputs": [],
   "source": []
  },
  {
   "cell_type": "code",
   "execution_count": null,
   "metadata": {},
   "outputs": [],
   "source": [
    "comb"
   ]
  },
  {
   "cell_type": "code",
   "execution_count": null,
   "metadata": {},
   "outputs": [],
   "source": [
    "comb.to_csv(\"/storage/user/datasets/large-Cell-Painting-Dataset/datasets/CPG0004/top20_moa_with_norm_cropped.csv\")"
   ]
  },
  {
   "cell_type": "code",
   "execution_count": null,
   "metadata": {},
   "outputs": [],
   "source": []
  },
  {
   "cell_type": "markdown",
   "metadata": {},
   "source": [
    "### Include as few DMSO wells per plate"
   ]
  },
  {
   "cell_type": "code",
   "execution_count": null,
   "metadata": {},
   "outputs": [],
   "source": [
    "path = \"/storage/user/datasets/large-Cell-Painting-Dataset/datasets/CPG0004/top20_moa_with_norm_cropped.csv\"\n",
    "datainfo = pd.read_csv(path, index_col=0, engine='python')"
   ]
  },
  {
   "cell_type": "code",
   "execution_count": null,
   "metadata": {},
   "outputs": [],
   "source": [
    "path = \"/storage/user/datasets/large-Cell-Painting-Dataset/datasets/CPG0004/full_set_training_large_.csv\"\n",
    "datainfo_full = pd.read_csv(path, index_col=0, engine='python')"
   ]
  },
  {
   "cell_type": "code",
   "execution_count": null,
   "metadata": {},
   "outputs": [],
   "source": [
    "datainfo"
   ]
  },
  {
   "cell_type": "code",
   "execution_count": null,
   "metadata": {},
   "outputs": [],
   "source": [
    "datainfo.Treatment.nunique()"
   ]
  },
  {
   "cell_type": "code",
   "execution_count": null,
   "metadata": {},
   "outputs": [],
   "source": [
    "subset = datainfo_full[datainfo_full.Unique_well.isin(datainfo.Unique_well.unique())]"
   ]
  },
  {
   "cell_type": "code",
   "execution_count": null,
   "metadata": {},
   "outputs": [],
   "source": [
    "(subset[[\"Metadata_Plate\", \"Split\"]].drop_duplicates().Split == \"Test\").sum()"
   ]
  },
  {
   "cell_type": "code",
   "execution_count": null,
   "metadata": {},
   "outputs": [],
   "source": [
    "plates = subset[subset.Split == \"Test\"].Metadata_Plate.unique()"
   ]
  },
  {
   "cell_type": "code",
   "execution_count": null,
   "metadata": {},
   "outputs": [],
   "source": [
    "datainfo_full[(datainfo_full.Metadata_Plate.isin(plates)) & (datainfo_full.Metadata_broad_sample == \"DMSO\")]"
   ]
  },
  {
   "cell_type": "code",
   "execution_count": null,
   "metadata": {},
   "outputs": [],
   "source": [
    "datainfo_full[(datainfo_full.Metadata_broad_sample == \"DMSO\")]"
   ]
  },
  {
   "cell_type": "code",
   "execution_count": null,
   "metadata": {},
   "outputs": [],
   "source": [
    "subset = datainfo_full[datainfo_full.Treatment.isin(datainfo.Treatment.unique())]"
   ]
  },
  {
   "cell_type": "code",
   "execution_count": null,
   "metadata": {},
   "outputs": [],
   "source": [
    "subset"
   ]
  },
  {
   "cell_type": "code",
   "execution_count": null,
   "metadata": {},
   "outputs": [],
   "source": [
    "dmso_subset = subset[subset.Metadata_broad_sample == \"DMSO\"].sample(2000)"
   ]
  },
  {
   "cell_type": "code",
   "execution_count": null,
   "metadata": {},
   "outputs": [],
   "source": [
    "subset_without_dmso = subset[subset.Metadata_broad_sample != \"DMSO\"]"
   ]
  },
  {
   "cell_type": "code",
   "execution_count": null,
   "metadata": {},
   "outputs": [],
   "source": [
    "dmso_subset.shape"
   ]
  },
  {
   "cell_type": "code",
   "execution_count": null,
   "metadata": {},
   "outputs": [],
   "source": [
    "subset_without_dmso.shape"
   ]
  },
  {
   "cell_type": "code",
   "execution_count": null,
   "metadata": {},
   "outputs": [],
   "source": [
    "dmso_enriched_subset = pd.concat([subset_without_dmso, dmso_subset])"
   ]
  },
  {
   "cell_type": "code",
   "execution_count": null,
   "metadata": {},
   "outputs": [],
   "source": [
    "dmso_enriched_subset.groupby(\"Metadata_moa_ID\").ngroup()"
   ]
  },
  {
   "cell_type": "code",
   "execution_count": null,
   "metadata": {},
   "outputs": [],
   "source": [
    "dmso_enriched_subset[\"Metadata_moa_ID\"] = dmso_enriched_subset.groupby(\"Metadata_moa_ID\").ngroup()"
   ]
  },
  {
   "cell_type": "code",
   "execution_count": null,
   "metadata": {},
   "outputs": [],
   "source": [
    "dmso_enriched_subset[\"Treatment_ID\"] = dmso_enriched_subset.groupby(\"Treatment_ID\").ngroup()"
   ]
  },
  {
   "cell_type": "code",
   "execution_count": null,
   "metadata": {},
   "outputs": [],
   "source": [
    "dmso_enriched_subset.groupby(\"Metadata_moa_ID\").ngroup()"
   ]
  },
  {
   "cell_type": "markdown",
   "metadata": {},
   "source": [
    "# Number of different treatments"
   ]
  },
  {
   "cell_type": "code",
   "execution_count": null,
   "metadata": {},
   "outputs": [],
   "source": [
    "dmso_enriched_subset.Treatment_ID.nunique()"
   ]
  },
  {
   "cell_type": "markdown",
   "metadata": {},
   "source": [
    "# Number of different MoAs"
   ]
  },
  {
   "cell_type": "code",
   "execution_count": null,
   "metadata": {},
   "outputs": [],
   "source": [
    "dmso_enriched_subset.Metadata_moa_ID.nunique()"
   ]
  },
  {
   "cell_type": "code",
   "execution_count": null,
   "metadata": {},
   "outputs": [],
   "source": [
    "dmso_enriched_subset.to_csv(\"/storage/user/datasets/large-Cell-Painting-Dataset/datasets/CPG0004/top50_moa_with_dmso.csv\")"
   ]
  }
 ],
 "metadata": {
  "kernelspec": {
   "display_name": "Python 3 (ipykernel)",
   "language": "python",
   "name": "python3"
  },
  "language_info": {
   "codemirror_mode": {
    "name": "ipython",
    "version": 3
   },
   "file_extension": ".py",
   "mimetype": "text/x-python",
   "name": "python",
   "nbconvert_exporter": "python",
   "pygments_lexer": "ipython3",
   "version": "3.9.17"
  },
  "vscode": {
   "interpreter": {
    "hash": "767d51c1340bd893661ea55ea3124f6de3c7a262a8b4abca0554b478b1e2ff90"
   }
  }
 },
 "nbformat": 4,
 "nbformat_minor": 2
}
